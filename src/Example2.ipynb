{
 "cells": [
  {
   "cell_type": "code",
   "execution_count": 1,
   "metadata": {},
   "outputs": [],
   "source": [
    "import numpy as np\n",
    "import matplotlib.pyplot as plt\n",
    "from typing import List, Tuple\n",
    "from scipy.optimize import fsolve\n",
    "import ipywidgets as widgets\n",
    "from IPython.display import display\n",
    "from thermo_models.RaoultsLawModel import *\n",
    "from distillation.DistillationModel import DistillationModel\n",
    "from utils.AntoineEquation import * \n",
    "from IPython.display import clear_output\n",
    "from tqdm import tqdm\n",
    "from distillation.DistillationTernary import *\n",
    "import ipywidgets as widgets\n",
    "from IPython.display import display\n",
    "from ipywidgets import interactive, Button, VBox, HBox, Output\n",
    "from IPython.display import clear_output\n"
   ]
  },
  {
   "cell_type": "code",
   "execution_count": 2,
   "metadata": {},
   "outputs": [
    {
     "name": "stdout",
     "output_type": "stream",
     "text": [
      "352.8600135066221\n",
      "383.31052448955074\n",
      "411.0379166982268\n"
     ]
    }
   ],
   "source": [
    "# Antoine Parameters for benzene\n",
    "Ben_A = 4.72583\n",
    "Ben_B = 1660.652\n",
    "Ben_C = -1.461\n",
    "\n",
    "# Antoine Parameters for toluene\n",
    "Tol_A = 4.07827\n",
    "Tol_B = 1343.943\n",
    "Tol_C = -53.773\n",
    "\n",
    "# Antoine Parameters for Xylene\n",
    "Xyl_A = 4.14553\n",
    "Xyl_B = 1474.403\n",
    "Xyl_C = -55.377\n",
    "\n",
    "P_sys = 1.0325\n",
    "# Create Antoine equations for benzene and toluene\n",
    "benzene_antoine = AntoineEquationBase10(Ben_A, Ben_B, Ben_C)\n",
    "toluene_antoine = AntoineEquationBase10(Tol_A, Tol_B, Tol_C)\n",
    "xylene_antoine = AntoineEquationBase10(Xyl_A, Xyl_B, Xyl_C)\n",
    "\n",
    "print(benzene_antoine.get_boiling_point(1))\n",
    "print(toluene_antoine.get_boiling_point(1))\n",
    "print(xylene_antoine.get_boiling_point(1))\n",
    "# Create a Raoult's law object\n",
    "TolBenXylSys = RaoultsLawModel(3,P_sys,[benzene_antoine, toluene_antoine, xylene_antoine])\n",
    "# TolBenXylSys.plot_ternary_txy(100, keep_zero=0)"
   ]
  },
  {
   "cell_type": "code",
   "execution_count": 3,
   "metadata": {},
   "outputs": [],
   "source": [
    "R1_slider =  widgets.FloatLogSlider(value=1.0, base=10, min=0, max=2, step=0.001,  description='Reflux Ratio:', readout_format='.1f')\n",
    "go_button = widgets.Button(description='Create Model', width='15%', margin='0 10px 0 0')\n",
    "out_oplines = Output()\n",
    "\n",
    "def plot_rect_strip_ex2(R = R1_slider):\n",
    "    plt.close('all')  # Ensure that any existing figures are closed before plotting a new one.\n",
    "    xF = np.array([0.3, 0.3, 0.4])\n",
    "    xD = np.array([0.990, 0.0100, 1e-10])\n",
    "    xB = np.array([1e-5, 0.4261,0.5749])\n",
    "    distillation_model = DistillationModelTernary(TolBenXylSys, xF = xF, xD = xD, xB = xB, reflux = R)\n",
    "    fig, ax = plt.subplots(1,1,figsize= (5,5))\n",
    "    distillation_model.plot_rect_strip_comp(ax)\n",
    "    plt.subplots_adjust(hspace=0)\n",
    "    plt.show()"
   ]
  },
  {
   "cell_type": "code",
   "execution_count": 4,
   "metadata": {},
   "outputs": [
    {
     "data": {
      "application/vnd.jupyter.widget-view+json": {
       "model_id": "e1f512ab568b425cb74579806fb1aeeb",
       "version_major": 2,
       "version_minor": 0
      },
      "text/plain": [
       "VBox(children=(HBox(children=(FloatLogSlider(value=1.0, description='Reflux Ratio:', max=2.0, readout_format='…"
      ]
     },
     "metadata": {},
     "output_type": "display_data"
    }
   ],
   "source": [
    "def on_go_button_click(b):\n",
    "    with out_oplines:\n",
    "        clear_output(wait=True)\n",
    "        plt.close('all')  # Close all open matplotlib plots\n",
    "        plot_rect_strip_ex2( R=R1_slider.value)\n",
    "        \n",
    "go_button = Button(description='Generate Plot')\n",
    "go_button.on_click(on_go_button_click)\n",
    "\n",
    "layout = VBox([HBox([R1_slider, go_button]), out_oplines])\n",
    "display(layout)"
   ]
  },
  {
   "cell_type": "code",
   "execution_count": 5,
   "metadata": {},
   "outputs": [
    {
     "data": {
      "image/png": "[encoded data removed]",
      "text/plain": [
       "<Figure size 360x360 with 1 Axes>"
      ]
     },
     "metadata": {
      "needs_background": "light"
     },
     "output_type": "display_data"
    }
   ],
   "source": [
    "from ipywidgets import HBox, VBox, FloatSlider, Output\n",
    "import matplotlib.pyplot as plt\n",
    "import numpy as np\n",
    "\n",
    "out_residue = Output()\n",
    "\n",
    "distillation_model = DistillationModelTernary(TolBenXylSys, xF=np.array([0.4,0.3,0.3]), xD=np.array([0.3,0.3,0.4]), xB=np.array([0.3,0.3,0.4]), reflux=1e10)\n",
    "fig, ax = plt.subplots(1,1,figsize= (5,5))\n",
    "#distillation_model.plot_residue_curve(0,ax)\n",
    "\n",
    "\n"
   ]
  },
  {
   "cell_type": "code",
   "execution_count": 6,
   "metadata": {},
   "outputs": [],
   "source": [
    "xD1_slider =  widgets.FloatSlider(value=0.96, min=0.00, max=1.00, step=0.001,  description='xD Benzene:', readout_format='.2f')\n",
    "xD2_slider =  widgets.FloatSlider(value=0.03, min=0.00, max=0.04, step=0.001,  description='xD Toluene:', readout_format='.2f')\n",
    "xF1_slider =  widgets.FloatSlider(value=0.40, min=0.00, max=1.00, step=0.001,  description='xF Benzene:', readout_format='.2f')\n",
    "xF2_slider =  widgets.FloatSlider(value=0.40, min=0.00, max=0.60, step=0.001,  description='xF Toluene:', readout_format='.2f')\n",
    "go_button = widgets.Button(description='Create Model', width='15%', margin='0 10px 0 0')\n",
    "out_oplines = Output()\n",
    "\n",
    "def update_range(change):\n",
    "    xD2_slider.max = (1 - xD1_slider.value)\n",
    "    xF2_slider.max = (1 - xF1_slider.value)\n",
    "\n",
    "# Attach the function to the value change event of slider1\n",
    "xD1_slider.observe(update_range, 'value')\n",
    "xF1_slider.observe(update_range, 'value')\n",
    "\n",
    "\n",
    "def plot_rect_strip_ex2(R = 2.5, VB = 1.5):\n",
    "    xB1 = (xF1_slider.value - (VB * (xD1_slider.value - xF1_slider.value) / (R+1)))\n",
    "    xB2 = (xF2_slider.value - ((xF1_slider.value - xB1) * (xF2_slider.value - xD2_slider.value) / (xF1_slider.value - xD1_slider.value)))\n",
    "    plt.close('all')  # Ensure that any existing figures are closed before plotting a new one.\n",
    "    xF = np.array([xF1_slider.value, xF2_slider.value, (1 - xF1_slider.value - xF2_slider.value)])\n",
    "    xD = np.array([xD1_slider.value, xD2_slider.value, (1 - xD1_slider.value - xD2_slider.value)])\n",
    "    xB = np.array([xB1, xB2, (1 - xB1 - xB2)])\n",
    "    distillation_model = DistillationModelTernary(TolBenXylSys, xF = xF, xD = xD, xB = xB, reflux = R)\n",
    "    fig, ax = plt.subplots(1,1,figsize= (5,5))\n",
    "    distillation_model.plot_rect_strip_comp(ax)\n",
    "    plt.subplots_adjust(hspace=0)\n",
    "    plt.show()\n"
   ]
  },
  {
   "cell_type": "code",
   "execution_count": 7,
   "metadata": {},
   "outputs": [
    {
     "data": {
      "application/vnd.jupyter.widget-view+json": {
       "model_id": "4cacf5fc28fc4bc9a5f96144a33403fa",
       "version_major": 2,
       "version_minor": 0
      },
      "text/plain": [
       "VBox(children=(Label(value='Change composition values to see if the column is feasible. \\nA feasible column wi…"
      ]
     },
     "metadata": {},
     "output_type": "display_data"
    }
   ],
   "source": [
    "def on_go_button_click(b):\n",
    "    with out_oplines:\n",
    "        clear_output(wait=True)\n",
    "        plt.close('all')  # Close all open matplotlib plots\n",
    "        plot_rect_strip_ex2(R=1.5)\n",
    "        \n",
    "go_button = Button(description='Generate Plot')\n",
    "go_button.on_click(on_go_button_click)\n",
    "\n",
    "title_label = widgets.Label(value=\"Change composition values to see if the column is feasible. \\n\" \n",
    "\"A feasible column will have intersecting Rectifying and Stripping Lines.\", style={'font-weight': 'bold'})\n",
    "\n",
    "layout = VBox([\n",
    "    title_label,\n",
    "    HBox([xD1_slider, xD2_slider]),\n",
    "    HBox([xF1_slider, xF2_slider, go_button]),\n",
    "    out_oplines\n",
    "    ])\n",
    "display(layout)"
   ]
  }
 ],
 "metadata": {
  "kernelspec": {
   "display_name": "base",
   "language": "python",
   "name": "python3"
  },
  "language_info": {
   "codemirror_mode": {
    "name": "ipython",
    "version": 3
   },
   "file_extension": ".py",
   "mimetype": "text/x-python",
   "name": "python",
   "nbconvert_exporter": "python",
   "pygments_lexer": "ipython3",
   "version": "3.8.8"
  },
  "orig_nbformat": 4
 },
 "nbformat": 4,
 "nbformat_minor": 2
}
