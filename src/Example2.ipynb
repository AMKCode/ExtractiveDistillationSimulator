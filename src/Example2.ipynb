{
 "cells": [
  {
   "cell_type": "markdown",
   "metadata": {},
   "source": [
    "# Example 2: An Ideal, Ternary Mixture\n",
    "\n",
    "#### This example shows the distillation column for a mixture of Benzene (heavy key), Toluene (intermediate) and Xylene (light key).\n",
    "\n",
    "#### The graphs are different than in the ternary case.  The Rectifying and Stripping Sections are no longer linear.  The markings represent the equilibrium compositions.  \n",
    "##### These sections follow a curved shape, starting closest to the pure light key component (unstable node), then traveling towards before curving away from the intermediate component (saddle node) before terminating closest to the heavy key (stable node).\n",
    "\n",
    "##### Feasible columns exist when the Rectifying and Stripping Sections overlap, which is dependent on the Distillate and Bottoms Compositions, as well as the Reflux Ratio."
   ]
  },
  {
   "cell_type": "code",
   "execution_count": 1,
   "metadata": {},
   "outputs": [],
   "source": [
    "## IMPORT NECESSARY LIBRARIES ##\n",
    "import numpy as np\n",
    "import matplotlib.pyplot as plt\n",
    "from typing import List, Tuple\n",
    "from scipy.optimize import fsolve\n",
    "import ipywidgets as widgets\n",
    "from IPython.display import display\n",
    "from thermo_models.RaoultsLawModel import *\n",
    "from distillation.DistillationModel import DistillationModel\n",
    "from utils.AntoineEquation import * \n",
    "from IPython.display import clear_output\n",
    "from tqdm import tqdm\n",
    "from distillation.DistillationTernary import *\n",
    "import ipywidgets as widgets\n",
    "from IPython.display import display\n",
    "from ipywidgets import interactive, Button, VBox, HBox, Output\n",
    "from IPython.display import clear_output\n",
    "import pickle\n",
    "from utils.dictionary_approx import *\n",
    "\n",
    "with open(\"./utils/pickles/ex2_fixedpoints_dict.pkl\", \"rb\") as f:\n",
    "    rtofixedpoints_dict = pickle.load(f)"
   ]
  },
  {
   "cell_type": "code",
   "execution_count": 2,
   "metadata": {},
   "outputs": [
    {
     "name": "stdout",
     "output_type": "stream",
     "text": [
      "352.8600135066221\n",
      "383.31052448955074\n",
      "411.0379166982268\n"
     ]
    }
   ],
   "source": [
    "# Antoine Parameters for benzene\n",
    "Ben_A = 4.72583\n",
    "Ben_B = 1660.652\n",
    "Ben_C = -1.461\n",
    "\n",
    "# Antoine Parameters for toluene\n",
    "Tol_A = 4.07827\n",
    "Tol_B = 1343.943\n",
    "Tol_C = -53.773\n",
    "\n",
    "# Antoine Parameters for Xylene\n",
    "Xyl_A = 4.14553\n",
    "Xyl_B = 1474.403\n",
    "Xyl_C = -55.377\n",
    "\n",
    "P_sys = 1.0325\n",
    "# Create Antoine equations for benzene and toluene\n",
    "benzene_antoine = AntoineEquationBase10(Ben_A, Ben_B, Ben_C)\n",
    "toluene_antoine = AntoineEquationBase10(Tol_A, Tol_B, Tol_C)\n",
    "xylene_antoine = AntoineEquationBase10(Xyl_A, Xyl_B, Xyl_C)\n",
    "\n",
    "print(benzene_antoine.get_boiling_point(1))\n",
    "print(toluene_antoine.get_boiling_point(1))\n",
    "print(xylene_antoine.get_boiling_point(1))\n",
    "# Create a Raoult's law object\n",
    "TolBenXylSys = RaoultsLawModel(3,P_sys,[benzene_antoine, toluene_antoine, xylene_antoine])\n",
    "# TolBenXylSys.plot_ternary_txy(100, keep_zero=0)"
   ]
  },
  {
   "cell_type": "code",
   "execution_count": 3,
   "metadata": {},
   "outputs": [
    {
     "data": {
      "application/vnd.jupyter.widget-view+json": {
       "model_id": "88c55ded51414d3ab6320e21ef81c6e8",
       "version_major": 2,
       "version_minor": 0
      },
      "text/plain": [
       "Dropdown(description='Define:', options=('Feed-Distillate', 'Distillate-Bottoms', 'Feed-Bottoms'), value='Feed…"
      ]
     },
     "metadata": {},
     "output_type": "display_data"
    },
    {
     "data": {
      "application/vnd.jupyter.widget-view+json": {
       "model_id": "3ab9c59c37f2489d86fc4c8880ddc7c7",
       "version_major": 2,
       "version_minor": 0
      },
      "text/plain": [
       "FloatText(value=0.3, description='zF1:')"
      ]
     },
     "metadata": {},
     "output_type": "display_data"
    },
    {
     "data": {
      "application/vnd.jupyter.widget-view+json": {
       "model_id": "0f49e0ba25584b04ab5299d505392aec",
       "version_major": 2,
       "version_minor": 0
      },
      "text/plain": [
       "FloatText(value=0.3, description='zF2:')"
      ]
     },
     "metadata": {},
     "output_type": "display_data"
    },
    {
     "data": {
      "application/vnd.jupyter.widget-view+json": {
       "model_id": "757ce396c8d046408b55e381b22ff8e3",
       "version_major": 2,
       "version_minor": 0
      },
      "text/plain": [
       "FloatText(value=0.6, description='zD1:')"
      ]
     },
     "metadata": {},
     "output_type": "display_data"
    },
    {
     "data": {
      "application/vnd.jupyter.widget-view+json": {
       "model_id": "d32d7ca336e54630b86556125ce2472f",
       "version_major": 2,
       "version_minor": 0
      },
      "text/plain": [
       "FloatText(value=0.2, description='zD2:')"
      ]
     },
     "metadata": {},
     "output_type": "display_data"
    },
    {
     "data": {
      "application/vnd.jupyter.widget-view+json": {
       "model_id": "2179018fe9ac4ab8af260b763ec83153",
       "version_major": 2,
       "version_minor": 0
      },
      "text/plain": [
       "Button(description='Submit', style=ButtonStyle())"
      ]
     },
     "metadata": {},
     "output_type": "display_data"
    },
    {
     "name": "stdout",
     "output_type": "stream",
     "text": [
      "Invalid fractions; sum must be <= 1\n"
     ]
    },
    {
     "data": {
      "image/png": "[encoded data removed]",
      "text/plain": [
       "<Figure size 432x288 with 1 Axes>"
      ]
     },
     "metadata": {
      "needs_background": "light"
     },
     "output_type": "display_data"
    }
   ],
   "source": [
    "\n",
    "# Create widgets\n",
    "option = widgets.Dropdown(\n",
    "    options=['Feed-Distillate', 'Distillate-Bottoms', 'Feed-Bottoms'],\n",
    "    description='Define:',\n",
    "    disabled=False\n",
    ")\n",
    "\n",
    "z1_1 = widgets.FloatText(value=0.3, description='zF1:')\n",
    "z1_2 = widgets.FloatText(value=0.3, description='zF2:')\n",
    "\n",
    "z2_1 = widgets.FloatText(value=0.6, description='zD1:')\n",
    "z2_2 = widgets.FloatText(value=0.2, description='zD2:')\n",
    "\n",
    "submit_button = widgets.Button(description='Submit')\n",
    "\n",
    "# Update text fields when choice changes\n",
    "def on_option_change(change):\n",
    "    new_option = change['new']\n",
    "    z1_1.description, z1_2.description = f'z{new_option.split(\"-\")[0][0]}1:', f'z{new_option.split(\"-\")[0][0]}2:'\n",
    "    z2_1.description, z2_2.description = f'z{new_option.split(\"-\")[1][0]}1:', f'z{new_option.split(\"-\")[1][0]}2:'\n",
    "\n",
    "option.observe(on_option_change, names='value')\n",
    "\n",
    "# Function to run when 'Submit' is clicked\n",
    "def plot_mass_balance(btn):\n",
    "    z_1_1, z_1_2 = z1_1.value, z1_2.value\n",
    "    z_1_3 = 1 - z_1_1 - z_1_2\n",
    "    z_2_1, z_2_2 = z2_1.value, z2_2.value\n",
    "    z_2_3 = 1 - z_2_1 - z_2_2\n",
    "\n",
    "    if z_1_3 < 0 or z_2_3 < 0:\n",
    "        print(\"Invalid fractions; sum must be <= 1\")\n",
    "        return\n",
    "    \n",
    "    fig, ax = plt.subplots()\n",
    "    ax.set_xlim([0, 1])\n",
    "    ax.set_ylim([0, 1])\n",
    "    ax.plot([0, 1], [1, 0], 'k--')\n",
    "    ax.set_aspect('equal')\n",
    "\n",
    "    label1, label2 = option.value.split(\"-\")\n",
    "    alpha = (z_2_2 - z_1_2)/(z_2_1 - z_1_1)\n",
    "    beta = - z_1_1 * alpha + z_1_2\n",
    "    x = np.linspace(0, 1, 5)\n",
    "    y = alpha * x + beta\n",
    "\n",
    "    \n",
    "    if option.value == 'Feed-Distillate':\n",
    "        ax.plot([z_1_1, z_2_1], [z_1_2, z_2_2], 'ro-', label=f'{label1}-{label2}')\n",
    "        for index,i in enumerate(x):\n",
    "            if i > z_1_1:\n",
    "                x = x[:index]\n",
    "                y = y[:index]\n",
    "                break\n",
    "            \n",
    "        ax.plot(x, y, 'r--')\n",
    "    elif option.value == 'Distillate-Bottoms':\n",
    "        ax.plot([z_1_1, z_2_1], [z_1_2, z_2_2], 'go-', label=f'{label1}-{label2}')\n",
    "    else:  # Feed-Bottoms\n",
    "        ax.plot([z_1_1, z_2_1], [z_1_2, z_2_2], 'bo-', label=f'{label1}-{label2}')\n",
    "        for index,i in enumerate(x):\n",
    "            if i > z_1_1:\n",
    "                x = x[index:]\n",
    "                y = y[index:]\n",
    "                break\n",
    "\n",
    "    ax.text(z_1_1, z_1_2, label1, fontsize=12, ha='right')\n",
    "    ax.text(z_2_1, z_2_2, label2, fontsize=12, ha='right')\n",
    "    \n",
    "    ax.legend()\n",
    "    plt.show()\n",
    "\n",
    "# Connect the button click to the function\n",
    "submit_button.on_click(plot_mass_balance)\n",
    "\n",
    "# Display widgets\n",
    "display(option, z1_1, z1_2, z2_1, z2_2, submit_button)\n"
   ]
  },
  {
   "cell_type": "code",
   "execution_count": 4,
   "metadata": {},
   "outputs": [],
   "source": [
    "R1_slider =  widgets.FloatLogSlider(value=1.0, base=10, min=0, max=2, step=0.001,  description='Reflux Ratio:', readout_format='.1f')\n",
    "go_button = widgets.Button(description='Create Model', width='15%', margin='0 10px 0 0')\n",
    "out_oplines = Output()\n",
    "\n",
    "def plot_rect_strip_ex2(R = R1_slider):\n",
    "    plt.close('all')  # Ensure that any existing figures are closed before plotting a new one.\n",
    "    xF = np.array([0.3, 0.3, 0.4])\n",
    "    xD = np.array([0.990, 0.0100, 1e-10])\n",
    "    xB = np.array([1e-5, 0.4261,0.5749])\n",
    "    distillation_model = DistillationModelTernary(TolBenXylSys, xF = xF, xD = xD, xB = xB, reflux = R)\n",
    "    fixed_points = approximate_value(rtofixedpoints_dict,R)\n",
    "    fig, ax = plt.subplots(1,1,figsize= (5,5))\n",
    "    distillation_model.plot_rect_strip_comp(ax)\n",
    "    \n",
    "    for index,point in enumerate(fixed_points['values']):\n",
    "        ax.scatter(point[0], point[1], marker='x', color='black', s=100, linewidths= 10)\n",
    "        if fixed_points['source_indices'][index] == 0:\n",
    "            label = \"Unstable\"\n",
    "        elif fixed_points['source_indices'][index] == 1:\n",
    "            label = \"saddle\"\n",
    "        elif fixed_points['source_indices'][index] == 2:\n",
    "            label = \"stable\"\n",
    "        else:\n",
    "            label = \"unexpected node: error\"\n",
    "        ax.text(point[0], point[1], f' {label}', verticalalignment='bottom', horizontalalignment='right')\n",
    "    plt.subplots_adjust(hspace=0)\n",
    "    plt.show()"
   ]
  },
  {
   "cell_type": "code",
   "execution_count": 5,
   "metadata": {},
   "outputs": [
    {
     "data": {
      "application/vnd.jupyter.widget-view+json": {
       "model_id": "11fdb9bcc29044189e1d57f5203a3614",
       "version_major": 2,
       "version_minor": 0
      },
      "text/plain": [
       "VBox(children=(HBox(children=(FloatLogSlider(value=1.0, description='Reflux Ratio:', max=2.0, readout_format='…"
      ]
     },
     "metadata": {},
     "output_type": "display_data"
    }
   ],
   "source": [
    "def on_go_button_click(b):\n",
    "    with out_oplines:\n",
    "        clear_output(wait=True)\n",
    "        plt.close('all')  # Close all open matplotlib plots\n",
    "        plot_rect_strip_ex2( R=R1_slider.value)\n",
    "        \n",
    "go_button = Button(description='Generate Plot')\n",
    "go_button.on_click(on_go_button_click)\n",
    "\n",
    "layout1 = VBox([HBox([R1_slider, go_button]), out_oplines])\n",
    "display(layout1)"
   ]
  },
  {
   "cell_type": "code",
   "execution_count": 6,
   "metadata": {},
   "outputs": [],
   "source": [
    "# xD1_slider =  widgets.FloatSlider(value=0.96, min=0.00, max=1.00, step=0.001,  description='xD Benzene:', readout_format='.2f')\n",
    "# xD2_slider =  widgets.FloatSlider(value=0.03, min=0.00, max=0.04, step=0.001,  description='xD Toluene:', readout_format='.2f')\n",
    "# xF1_slider =  widgets.FloatSlider(value=0.40, min=0.00, max=1.00, step=0.001,  description='xF Benzene:', readout_format='.2f')\n",
    "# xF2_slider =  widgets.FloatSlider(value=0.40, min=0.00, max=0.60, step=0.001,  description='xF Toluene:', readout_format='.2f')\n",
    "# go_button = widgets.Button(description='Create Model', width='15%', margin='0 10px 0 0')\n",
    "# out_oplines = Output()\n",
    "\n",
    "# def update_range(change):\n",
    "#     xD2_slider.max = (1 - xD1_slider.value)\n",
    "#     xF2_slider.max = (1 - xF1_slider.value)\n",
    "\n",
    "# # Attach the function to the value change event of slider1\n",
    "# xD1_slider.observe(update_range, 'value')\n",
    "# xF1_slider.observe(update_range, 'value')\n",
    "\n",
    "\n",
    "# def plot_rect_strip_ex2(R = 2.5, VB = 1.5):\n",
    "#     xB1 = (xF1_slider.value - (VB * (xD1_slider.value - xF1_slider.value) / (R+1)))\n",
    "#     xB2 = (xF2_slider.value - ((xF1_slider.value - xB1) * (xF2_slider.value - xD2_slider.value) / (xF1_slider.value - xD1_slider.value)))\n",
    "#     plt.close('all')  # Ensure that any existing figures are closed before plotting a new one.\n",
    "#     xF = np.array([xF1_slider.value, xF2_slider.value, (1 - xF1_slider.value - xF2_slider.value)])\n",
    "#     xD = np.array([xD1_slider.value, xD2_slider.value, (1 - xD1_slider.value - xD2_slider.value)])\n",
    "#     xB = np.array([xB1, xB2, (1 - xB1 - xB2)])\n",
    "#     distillation_model = DistillationModelTernary(TolBenXylSys, xF = xF, xD = xD, xB = xB, reflux = R)\n",
    "#     fig, ax = plt.subplots(1,1,figsize= (5,5))\n",
    "#     distillation_model.plot_rect_strip_comp(ax)\n",
    "#     plt.subplots_adjust(hspace=0)\n",
    "#     plt.show()\n"
   ]
  },
  {
   "cell_type": "code",
   "execution_count": 7,
   "metadata": {},
   "outputs": [],
   "source": [
    "# def on_go_button_click(b):\n",
    "#     with out_oplines:\n",
    "#         clear_output(wait=True)\n",
    "#         plt.close('all')  # Close all open matplotlib plots\n",
    "#         plot_rect_strip_ex2(R=1.5)\n",
    "        \n",
    "# go_button = Button(description='Generate Plot')\n",
    "# go_button.on_click(on_go_button_click)\n",
    "\n",
    "# title_label = widgets.Label(value=\"Change composition values to see if the column is feasible. \\n\" \n",
    "# \"A feasible column will have intersecting Rectifying and Stripping Lines.\", style={'font-weight': 'bold'})\n",
    "\n",
    "# layout = VBox([\n",
    "#     title_label,\n",
    "#     HBox([xD1_slider, xD2_slider]),\n",
    "#     HBox([xF1_slider, xF2_slider, go_button]),\n",
    "#     out_oplines\n",
    "#     ])\n",
    "# display(layout)"
   ]
  },
  {
   "cell_type": "code",
   "execution_count": null,
   "metadata": {},
   "outputs": [],
   "source": [
    "\n"
   ]
  }
 ],
 "metadata": {
  "kernelspec": {
   "display_name": "base",
   "language": "python",
   "name": "python3"
  },
  "language_info": {
   "codemirror_mode": {
    "name": "ipython",
    "version": 3
   },
   "file_extension": ".py",
   "mimetype": "text/x-python",
   "name": "python",
   "nbconvert_exporter": "python",
   "pygments_lexer": "ipython3",
   "version": "3.8.5"
  },
  "orig_nbformat": 4
 },
 "nbformat": 4,
 "nbformat_minor": 2
}
