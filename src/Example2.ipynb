{
 "cells": [
  {
   "cell_type": "code",
   "execution_count": 1,
   "metadata": {},
   "outputs": [],
   "source": [
    "import numpy as np\n",
    "import matplotlib.pyplot as plt\n",
    "from typing import List, Tuple\n",
    "from scipy.optimize import fsolve\n",
    "import ipywidgets as widgets\n",
    "from IPython.display import display\n",
    "from thermo_models.RaoultsLawModel import *\n",
    "from distillation.DistillationModel import DistillationModel\n",
    "from utils.AntoineEquation import * \n",
    "from IPython.display import clear_output\n",
    "from tqdm import tqdm\n",
    "from distillation.DistillationTernary import *\n",
    "import ipywidgets as widgets\n",
    "from IPython.display import display\n",
    "from ipywidgets import interactive, Button, VBox, HBox, Output\n",
    "from IPython.display import clear_output\n"
   ]
  },
  {
   "cell_type": "code",
   "execution_count": 2,
   "metadata": {},
   "outputs": [
    {
     "name": "stdout",
     "output_type": "stream",
     "text": [
      "352.8600135066221\n",
      "383.31052448955074\n",
      "411.0379166982268\n"
     ]
    }
   ],
   "source": [
    "# Antoine Parameters for benzene\n",
    "Ben_A = 4.72583\n",
    "Ben_B = 1660.652\n",
    "Ben_C = -1.461\n",
    "\n",
    "# Antoine Parameters for toluene\n",
    "Tol_A = 4.07827\n",
    "Tol_B = 1343.943\n",
    "Tol_C = -53.773\n",
    "\n",
    "# Antoine Parameters for Xylene\n",
    "Xyl_A = 4.14553\n",
    "Xyl_B = 1474.403\n",
    "Xyl_C = -55.377\n",
    "\n",
    "P_sys = 1.0325\n",
    "# Create Antoine equations for benzene and toluene\n",
    "benzene_antoine = AntoineEquationBase10(Ben_A, Ben_B, Ben_C)\n",
    "toluene_antoine = AntoineEquationBase10(Tol_A, Tol_B, Tol_C)\n",
    "xylene_antoine = AntoineEquationBase10(Xyl_A, Xyl_B, Xyl_C)\n",
    "\n",
    "print(benzene_antoine.get_boiling_point(1))\n",
    "print(toluene_antoine.get_boiling_point(1))\n",
    "print(xylene_antoine.get_boiling_point(1))\n",
    "# Create a Raoult's law object\n",
    "TolBenXylSys = RaoultsLawModel(3,P_sys,[benzene_antoine, toluene_antoine, xylene_antoine])\n",
    "# TolBenXylSys.plot_ternary_txy(100, keep_zero=0)"
   ]
  },
  {
   "cell_type": "code",
   "execution_count": 3,
   "metadata": {},
   "outputs": [],
   "source": [
    "R1_slider =  widgets.FloatLogSlider(value=1.0, base=10, min=0, max=2, step=0.001,  description='Reflux Ratio:', readout_format='.1f')\n",
    "go_button = widgets.Button(description='Create Model', width='15%', margin='0 10px 0 0')\n",
    "out_oplines = Output()\n",
    "\n",
    "def plot_rect_strip_ex2(R = R1_slider):\n",
    "    plt.close('all')  # Ensure that any existing figures are closed before plotting a new one.\n",
    "    xF = np.array([0.3, 0.3, 0.4])\n",
    "    xD = np.array([0.990, 0.0100, 1e-10])\n",
    "    xB = np.array([1e-5, 0.4261,0.5749])\n",
    "    distillation_model = DistillationModelTernary(TolBenXylSys, xF = xF, xD = xD, xB = xB, reflux = R)\n",
    "    fig, ax = plt.subplots(1,1,figsize= (5,5))\n",
    "    distillation_model.plot_rect_strip_comp(ax)\n",
    "    plt.subplots_adjust(hspace=0)\n",
    "    plt.show()"
   ]
  },
  {
   "cell_type": "code",
   "execution_count": 4,
   "metadata": {},
   "outputs": [
    {
     "data": {
      "application/vnd.jupyter.widget-view+json": {
       "model_id": "aa406b9e6e4a45deaf37a46f065d182e",
       "version_major": 2,
       "version_minor": 0
      },
      "text/plain": [
       "VBox(children=(HBox(children=(FloatLogSlider(value=1.0, description='Reflux Ratio:', max=2.0, readout_format='…"
      ]
     },
     "metadata": {},
     "output_type": "display_data"
    }
   ],
   "source": [
    "def on_go_button_click(b):\n",
    "    with out_oplines:\n",
    "        clear_output(wait=True)\n",
    "        plt.close('all')  # Close all open matplotlib plots\n",
    "        plot_rect_strip_ex2( R=R1_slider.value)\n",
    "        \n",
    "go_button = Button(description='Generate Plot')\n",
    "go_button.on_click(on_go_button_click)\n",
    "\n",
    "layout = VBox([HBox([R1_slider, go_button]), out_oplines])\n",
    "display(layout)"
   ]
  },
  {
   "cell_type": "code",
   "execution_count": 5,
   "metadata": {},
   "outputs": [
    {
     "data": {
      "application/vnd.jupyter.widget-view+json": {
       "model_id": "1766b7d5da534dd9b051ca4a7b9f4e5c",
       "version_major": 2,
       "version_minor": 0
      },
      "text/plain": [
       "VBox(children=(HBox(children=(FloatSlider(value=0.33, description='Component 1:', max=1.0, step=0.01), FloatSl…"
      ]
     },
     "metadata": {},
     "output_type": "display_data"
    },
    {
     "name": "stderr",
     "output_type": "stream",
     "text": [
      "/Users/panwapromtep/Library/CloudStorage/OneDrive-JohnsHopkins/ctei_ext_distillation/src/distillation/DistillationModel.py:57: RuntimeWarning: divide by zero encountered in double_scalars\n",
      "  self.boil_up = ((self.reflux+self.q)*((self.xF[0]-self.xB[0])/(self.xD[0]-self.xF[0]))) + self.q - 1 #this one need 1 component\n"
     ]
    }
   ],
   "source": [
    "from ipywidgets import HBox, VBox, FloatSlider, Output\n",
    "import matplotlib.pyplot as plt\n",
    "import numpy as np\n",
    "\n",
    "out_residue = Output()\n",
    "\n",
    "def update_slider2(*args):\n",
    "    slider2.max = 1 - slider1.value\n",
    "\n",
    "def update_slider1(*args):\n",
    "    slider1.max = 1 - slider2.value\n",
    "\n",
    "slider1 = FloatSlider(value=0.33, min=0, max=1, step=0.01, description=\"Component 1:\")\n",
    "slider2 = FloatSlider(value=0.33, min=0, max=1 - slider1.value, step=0.01, description=\"Component 2:\")\n",
    "\n",
    "slider1.observe(update_slider2, 'value')\n",
    "slider2.observe(update_slider1, 'value')\n",
    "\n",
    "def plot_residue(change):\n",
    "    xD = np.array([slider1.value, slider2.value, 1 - (slider1.value + slider2.value)])\n",
    "    xF = np.array([0.3, 0.3, 0.4])\n",
    "    xB = np.array([1e-5, 0.4261, 0.5749])\n",
    "    distillation_model = DistillationModelTernary(TolBenXylSys, xF=xF, xD=xD, xB=xB, reflux=1000)\n",
    "    with out_residue:\n",
    "        out_residue.clear_output(wait = True)\n",
    "        plt.close('all')\n",
    "        fig, ax = plt.subplots(1, 1, figsize=(5, 5))\n",
    "        distillation_model.plot_rect_comp(ax)\n",
    "        plt.subplots_adjust(hspace=0)\n",
    "        plt.show()\n",
    "\n",
    "slider1.observe(plot_residue, 'value')\n",
    "slider2.observe(plot_residue, 'value')\n",
    "\n",
    "layout = VBox([HBox([slider1, slider2]), out_residue])\n",
    "display(layout)\n"
   ]
  }
 ],
 "metadata": {
  "kernelspec": {
   "display_name": "base",
   "language": "python",
   "name": "python3"
  },
  "language_info": {
   "codemirror_mode": {
    "name": "ipython",
    "version": 3
   },
   "file_extension": ".py",
   "mimetype": "text/x-python",
   "name": "python",
   "nbconvert_exporter": "python",
   "pygments_lexer": "ipython3",
   "version": "3.8.8"
  },
  "orig_nbformat": 4
 },
 "nbformat": 4,
 "nbformat_minor": 2
}
