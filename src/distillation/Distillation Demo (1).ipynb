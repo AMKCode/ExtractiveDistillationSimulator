{
 "cells": [
  {
   "cell_type": "code",
   "execution_count": 2,
   "metadata": {},
   "outputs": [],
   "source": [
    "import numpy as np\n",
    "import matplotlib.pyplot as plt\n",
    "import math\n",
    "import ipywidgets as widgets\n",
    "from IPython.display import display"
   ]
  },
  {
   "cell_type": "code",
   "execution_count": 14,
   "metadata": {},
   "outputs": [
    {
     "data": {
      "application/vnd.jupyter.widget-view+json": {
       "model_id": "f6a79c608b4343a2a4dd632897f05ed4",
       "version_major": 2,
       "version_minor": 0
      },
      "text/plain": [
       "interactive(children=(FloatSlider(value=0.95, description='$x_D$:', max=1.0, step=0.01), FloatSlider(value=0.0…"
      ]
     },
     "metadata": {},
     "output_type": "display_data"
    }
   ],
   "source": [
    "def equib_curve(x):\n",
    "    return (x**0.5)\n",
    "\n",
    "\n",
    "def rect_y(R, xD, x):\n",
    "    slope = (R / (R+1))\n",
    "    yint = (xD / (R+1))\n",
    "    return (slope * x + yint)\n",
    "def strip_y(VB, xB, x):\n",
    "    slope = ((VB + 1) / VB)\n",
    "    yint = (xB / VB)\n",
    "    return (slope * x - yint)\n",
    "\n",
    "def distillation_plot(xD, xB, R, VB):\n",
    "    x_axis = np.linspace(0,1,10000)\n",
    "    plt.plot(x_axis,x_axis, linestyle = '-', color = 'black')\n",
    "    rect = []\n",
    "    strip = []\n",
    "    equib = []\n",
    "    op_color = 'yellow'\n",
    "    for i in range(len(x_axis)):\n",
    "        rect.append(rect_y(R, xD, x_axis[i]))\n",
    "        strip.append(strip_y(VB, xB, x_axis[i]))\n",
    "        equib.append(equib_curve(x_axis[i]))\n",
    "        if (abs(rect_y(R, xD, x_axis[i]) - strip_y(VB, xB, x_axis[i])) <= 0.001):\n",
    "            if (rect_y(R, xD, x_axis[i]) <= equib_curve(x_axis[i])):\n",
    "                op_color = 'green'\n",
    "            else:\n",
    "                op_color = 'red'\n",
    "    \n",
    "    plt.plot(x_axis, rect, label = 'Operating Lines', color = op_color)\n",
    "    plt.plot(x_axis, strip, color = op_color)\n",
    "    plt.plot(x_axis, equib, label = 'Equilibrium Placeholder')\n",
    "    plt.xlim(0,1)\n",
    "    plt.ylim(0,1)\n",
    "    plt.xlabel('$x_{Benzene}$')\n",
    "    plt.ylabel('$y_{Benzene}$')\n",
    "    plt.title(\"Minimum Reflux Ratio Demo (Benzene/Toluene)\")\n",
    "    plt.legend()  \n",
    "    plt.grid()\n",
    "    plt.show()\n",
    "\n",
    "xD_slider = widgets.FloatSlider(value = 0.95, min=0, max=1,      step=0.01, description='$x_D$:',        readout_format='.2f')\n",
    "xB_slider = widgets.FloatSlider(value = 0.05, min=0, max=1,      step=0.01, description='$x_B$:',        readout_format='.2f')\n",
    "R_slider =  widgets.FloatLogSlider(value=1.0, base=10, min=-2, max=3, step=0.1,  description='Reflux Ratio:', readout_format='.1f')\n",
    "VB_slider = widgets.FloatLogSlider(value=1.0, base=10, min=-2, max=3, step=0.1,  description='Boilup Ratio:', readout_format='.1f')\n",
    "\n",
    "# Create the interactive plot\n",
    "interactive_plot = widgets.interactive(distillation_plot, xD=xD_slider, xB=xB_slider, R = R_slider, VB = VB_slider)\n",
    "\n",
    "display(interactive_plot)"
   ]
  },
  {
   "cell_type": "code",
   "execution_count": null,
   "metadata": {},
   "outputs": [],
   "source": []
  },
  {
   "cell_type": "code",
   "execution_count": null,
   "metadata": {},
   "outputs": [],
   "source": []
  }
 ],
 "metadata": {
  "kernelspec": {
   "display_name": "Python 3",
   "language": "python",
   "name": "python3"
  }
 },
 "nbformat": 4,
 "nbformat_minor": 4
}
