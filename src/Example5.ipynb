{
 "cells": [
  {
   "cell_type": "markdown",
   "metadata": {},
   "source": [
    "## Example 5: Extractive Distillation\n",
    "\n",
    "#### What happens when an azeotrope occurs in a desired distillation, and 2 species cannot be purified beyond that point?  One commonly used industrial technique is called Extractive Distillation, where third species called an Entrainer is added to the column in its own separate feed stage.  The column is now broken down into 3 sections: the Rectifying Section, the Stripping Section, and a new \"Middle Section\" which exists between the Entrainer and Feed Stages.\n",
    "\n",
    "#### This middle section will be explored in these demonstrations."
   ]
  },
  {
   "cell_type": "code",
   "execution_count": null,
   "metadata": {},
   "outputs": [],
   "source": [
    "import numpy as np\n",
    "import matplotlib.pyplot as plt\n",
    "import ipywidgets as widgets\n",
    "from IPython.display import display\n",
    "from thermo_models.RaoultsLawModel import *\n",
    "from distillation.DistillationModel import DistillationModel\n",
    "import utils.AntoineEquation as AE\n",
    "from IPython.display import clear_output\n",
    "from tqdm import tqdm\n",
    "from distillation.DistillationDoubleFeed import *\n",
    "import ipywidgets as widgets\n",
    "from IPython.display import display\n",
    "from ipywidgets import interactive, Button, VBox, HBox, Output\n",
    "from IPython.display import clear_output\n",
    "from thermo_models.VanLaarModel import *\n",
    "from distillation.residue_curves import *"
   ]
  },
  {
   "cell_type": "code",
   "execution_count": null,
   "metadata": {},
   "outputs": [],
   "source": [
    "#Acetone (1 - Light) Methanol (2 - Intermediate) Water (3 - Heavy)\n",
    "#Table A.6 in Knapp \n",
    "A_ij = {\n",
    "    (1,1):0,\n",
    "    (1,2):182.0,\n",
    "    (1,3):795.0,\n",
    "    (2,1):196,\n",
    "    (2,2):0,\n",
    "    (2,3):332.6,\n",
    "    (3,1):490.0,\n",
    "    (3,2):163.80,\n",
    "    (3,3):0\n",
    "}\n",
    "\n",
    "#Different definition of Antoine where we have to take the negative of B\n",
    "Acet_A = 21.3099; Acet_B = 2801.53; Acet_C = -42.875\n",
    "Meth_A = 23.4832; Meth_B = 3634.01; Meth_C = -33.768\n",
    "#Assuming P < 2 atm\n",
    "Water_A = 23.2256; Water_B = 3835.18; Water_C = -45.343\n",
    "\n",
    "#Knapp Thesis Figure 3.8 uses ln form of Antoine\n",
    "AcetoneAntoine = AE.AntoineEquationBaseE(Acet_A,Acet_B,Acet_C)\n",
    "MethanolAntoine = AE.AntoineEquationBaseE(Meth_A, Meth_B, Meth_C)\n",
    "WaterAntoine = AE.AntoineEquationBaseE(Water_A,Water_B,Water_C)\n",
    "        \n",
    "P_sys = 101325\n",
    "# Create a Raoult's law object\n",
    "AceMethWaterSys = VanLaarModel(num_comp = 3, P_sys = P_sys, A_coeff = A_ij, comp_names = [\"Acetone\",\"Methanol\",\"Water\"], partial_pressure_eqs = [AcetoneAntoine, MethanolAntoine, WaterAntoine])\n"
   ]
  },
  {
   "cell_type": "code",
   "execution_count": null,
   "metadata": {},
   "outputs": [],
   "source": [
    "#Ethanol (1 - Light) Water (2 - Intermediate) Ethylene Glycol (3 - Heavy)\n",
    "#Table A.5 in Knapp, assuming P < 2 atm\n",
    "A_ij_EWEG = {\n",
    "    (1,1):0,\n",
    "    (1,2):615.9,\n",
    "    (1,3):277.3,\n",
    "    (2,1):314,\n",
    "    (2,2):0,\n",
    "    (2,3):376.028,\n",
    "    (3,1):892.7,\n",
    "    (3,2):622.539,\n",
    "    (3,3):0\n",
    "}\n",
    "\n",
    "#Different definition of Antoine where we have to take the negative of B\n",
    "#Table A.4 in Knapp\n",
    "#Assuming P < 2 atm\n",
    "Eth_A = 23.5807; Eth_B = 3673.81; Eth_C = -46.681\n",
    "Water_A = 23.2256; Water_B = 3835.18; Water_C = -45.343\n",
    "EG_A = 25.1431; EG_B = 6022.18; EG_C = -28.25\n",
    "\n",
    "\n",
    "#Knapp Thesis Figure 3.8 uses ln form of Antoine\n",
    "EthanolAntoine = AE.AntoineEquationBaseE(Eth_A, Eth_B, Eth_C)\n",
    "WaterAntoine = AE.AntoineEquationBaseE(Water_A, Water_B, Water_C)\n",
    "EthyleneGlycolAntoine = AE.AntoineEquationBaseE(EG_A, EG_B, EG_C)\n",
    "        \n",
    "P_sys = 101325\n",
    "# Create a Raoult's law object\n",
    "EthWaterEGSys = VanLaarModel(num_comp = 3, P_sys = P_sys, A_coeff = A_ij_EWEG, comp_names = [\"Ethanol\",\"Water\",\"Ethylene Glycol\"], partial_pressure_eqs = [EthanolAntoine, WaterAntoine, EthyleneGlycolAntoine])\n",
    "\n"
   ]
  },
  {
   "cell_type": "markdown",
   "metadata": {},
   "source": [
    "### Demo 1\n",
    "Residue Curves"
   ]
  },
  {
   "cell_type": "code",
   "execution_count": null,
   "metadata": {},
   "outputs": [],
   "source": [
    "out_residue = Output()\n",
    "rcm = phase_portraits(thermo_model=AceMethWaterSys)\n",
    "fig, ax = plt.subplots(1,1,figsize= (7,7))\n",
    "rcm.plot_residue_curve(ax, [0,7],data_points = 100, \n",
    "                            init_comps = [ \n",
    "                                            np.array([0.4,0.4,0.2]),\n",
    "                                            np.array([0.6,0.2,0.2]),\n",
    "                                            np.array([0.6,0.1,0.3]),\n",
    "                                            np.array([0.1,0.8,0.1]),\n",
    "                                            np.array([0.1,0.1,0.8])\n",
    "                                            ])\n",
    "plt.show()"
   ]
  },
  {
   "cell_type": "markdown",
   "metadata": {},
   "source": [
    "### Demo 2 - Manipulating the Middle Section\n",
    "\n",
    "The middle section can be thought of as a 'staple' connecting a rectifying and stripping line which otherwise would not intersect.  Select different stage numbers to introduce the Entrainer Feed and bgein the middle section to see which values result in feasible columns.  To be feasible, the middle section must intersect the rectifying line.  Also note where the endpoint of the middle section lies, and if it moves as you change the starting point.\n",
    "\n",
    "The Reflux Ratio (R) is set to 3 and the Feed Ratio (Fr = Entrainer Rate divided by Feed Rate) is set to 0.5 for Acetone/Methanol/Water and R = 6 and Fr = 0.23 for Ethanol/Water/Ethylene Glycol."
   ]
  },
  {
   "cell_type": "code",
   "execution_count": 16,
   "metadata": {},
   "outputs": [
    {
     "data": {
      "application/vnd.jupyter.widget-view+json": {
       "model_id": "db88546aef8f4407bf7b23ed53b5a9c9",
       "version_major": 2,
       "version_minor": 0
      },
      "text/plain": [
       "interactive(children=(Dropdown(description='Components:', options=('Acetone/Methanol/Water', 'Ethanol/Water/Et…"
      ]
     },
     "metadata": {},
     "output_type": "display_data"
    }
   ],
   "source": [
    "\n",
    "# Create an interactive plot function\n",
    "def interactive_plot(system, middle_start):\n",
    "    thermo_choice = AceMethWaterSys\n",
    "    Fr = 0.5\n",
    "    R = 3\n",
    "    if system == 'Ethanol/Water/Ethylene Glycol':\n",
    "        thermo_choice = EthWaterEGSys\n",
    "        Fr = 0.23\n",
    "        R = 6\n",
    "    xFL = np.array([0.3, 0.6, 0.1])\n",
    "    xFU = np.array([0.2, 0.1, 0.7])\n",
    "    zF = (Fr/(1+Fr))*xFU + (1/(1+Fr))*xFL                                #Knapp Equation 5.9\n",
    "    xD = np.array([0.93, 0.04, 0.03]) \n",
    "    D_B = ((zF[0] - 0.02) / (xD[0] - zF[0]))                             #Knapp Equation 5.13, set xB[0] = 0.01\n",
    "    xB = np.array([0.02, (zF[1] - D_B*(xD[1]-zF[1])), (zF[2] - D_B*(xD[2]*zF[2]))])\n",
    "\n",
    "    distillation_model = DistillationModelDoubleFeed(thermo_model=thermo_choice, Fr = Fr, zF = zF, xFL = xFL, xFU = xFU, xD = xD, xB = xB, reflux = R)\n",
    "    fig, ax = plt.subplots(1, 1, figsize=(5, 10))\n",
    "    distillation_model.plot_rect_strip_comp(ax, middle_start=middle_start)\n",
    "    plt.show()\n",
    "\n",
    "# Create a dropdown widget for middle_start\n",
    "middle_start_widget = widgets.Dropdown(\n",
    "    options=[2, 4, 6, 8, 10],\n",
    "    description='Middle Section Start:',\n",
    "    disabled=False\n",
    ")\n",
    "system_widget = widgets.Dropdown(\n",
    "    options=[\"Acetone/Methanol/Water\",\"Ethanol/Water/Ethylene Glycol\"],\n",
    "    description='Components:',\n",
    "    disabled=False\n",
    ") \n",
    "\n",
    "\n",
    "# Create an interactive plot with the dropdown widget\n",
    "interactive(interactive_plot, system=system_widget, middle_start=middle_start_widget)"
   ]
  },
  {
   "cell_type": "markdown",
   "metadata": {},
   "source": [
    "### Demo 3 - Maximum Reflux ratio\n",
    "\n",
    "At this point, you have seen demonstrations of distillation columns where the Reflux Ratio is too low, leading to an infeasible column.  However, with extractive distillation, a maximum reflux ratio also exists.  Move the Reflux Ratio slider and see how the system responds.  The Feed Ratio has been set to 1.0 for Acetone/Methanol/Water and 0.1 for Ethanol/Water/Ethylene Glycol.\n",
    "\n",
    "###### Hint: For Acetone/Methanol/Water, try R values of 1.2, 8.0, and 40.0"
   ]
  },
  {
   "cell_type": "code",
   "execution_count": 19,
   "metadata": {},
   "outputs": [
    {
     "data": {
      "application/vnd.jupyter.widget-view+json": {
       "model_id": "591f0839118843278ec2bead9af82b42",
       "version_major": 2,
       "version_minor": 0
      },
      "text/plain": [
       "VBox(children=(Dropdown(description='Components:', options=('Acetone/Methanol/Water', 'Ethanol/Water/Ethylene …"
      ]
     },
     "metadata": {},
     "output_type": "display_data"
    }
   ],
   "source": [
    "R_slider =  widgets.FloatLogSlider(value=1, min=0, max=2, step=0.001,  description='Reflux Ratio:', readout_format='.1f')\n",
    "go_button = widgets.Button(description='Create Model', width='15%', margin='0 10px 0 0')\n",
    "system_widget = widgets.Dropdown(\n",
    "    options=[\"Acetone/Methanol/Water\",\"Ethanol/Water/Ethylene Glycol\"],\n",
    "    description='Components:',\n",
    "    disabled=False\n",
    "    ) \n",
    "# Create a dropdown widget for middle_start\n",
    "middle_start_widget = widgets.Dropdown(\n",
    "    options=[2, 4, 6, 8, 10],\n",
    "    description='Middle Section Start:',\n",
    "    disabled=False\n",
    ")\n",
    "out_middle = Output()\n",
    "\n",
    "def plot_reflux_demo_ex5(R = R_slider, thermo_system = system_widget.value, middle_start=6):\n",
    "    thermo_choice = AceMethWaterSys\n",
    "    Fr = 1.0\n",
    "    if thermo_system == 'Ethanol/Water/Ethylene Glycol':\n",
    "        thermo_choice = EthWaterEGSys\n",
    "        Fr = 0.1\n",
    "    xFL = np.array([0.3, 0.6, 0.1])\n",
    "    xFU = np.array([0.2, 0.1, 0.7])\n",
    "    zF = (Fr/(1+Fr))*xFU + (1/(1+Fr))*xFL                                #Knapp Equation 5.9\n",
    "    xD = np.array([0.93, 0.04, 0.03]) \n",
    "    D_B = ((zF[0] - 0.02) / (xD[0] - zF[0]))                             #Knapp Equation 5.13, set xB[0] = 0.01\n",
    "    xB = np.array([0.02, (zF[1] - D_B*(xD[1]-zF[1])), (zF[2] - D_B*(xD[2]*zF[2]))])\n",
    "\n",
    "    distillation_model = DistillationModelDoubleFeed(thermo_model = thermo_choice, Fr = Fr, zF = zF, xFL = xFL, xFU = xFU, xD = xD, xB = xB, reflux = R)\n",
    "    fig, ax = plt.subplots(1,1,figsize= (5,10))\n",
    "    distillation_model.plot_rect_strip_comp(ax, middle_start=middle_start)\n",
    "    plt.subplots_adjust(hspace=0)\n",
    "    plt.show()\n",
    "\n",
    "def on_go_button_click(b):\n",
    "    with out_middle:\n",
    "        clear_output(wait=True)\n",
    "        plt.close('all')  # Close all open matplotlib plots\n",
    "        plot_reflux_demo_ex5(R=R_slider.value, thermo_system=system_widget.value, middle_start = middle_start_widget.value)\n",
    "        \n",
    "go_button = Button(description='Generate Plot')\n",
    "go_button.on_click(on_go_button_click)\n",
    "\n",
    "layout = VBox([system_widget,middle_start_widget, HBox([R_slider, go_button]), out_middle])\n",
    "display(layout)\n"
   ]
  },
  {
   "cell_type": "markdown",
   "metadata": {},
   "source": [
    "### Demo 4 - Changing Feed Ratio\n",
    "\n",
    "Another key parameter for extractive distillations is the feed ratio Fr, which equals the entrainer flowrate divided by the feed flowrate.  Like with reflux ratio, there exists a minimum and maximum feed ratio for each system.  Change the slider to try to find these values.  You may also note how the overall feed xF changes as a function of the feed ratio.  The distillate composition has been set at a constant value, so this will also change the composition of the bottoms.\n",
    "R is set at 1.35 for Acetone/Methanol/Water and 6 for Ethanol/Water/Ethylene Glycol.\n",
    "\n",
    "###### Hint: Try setting Fr = 1.45 for AMW or 0.2 for EWEG."
   ]
  },
  {
   "cell_type": "code",
   "execution_count": 37,
   "metadata": {},
   "outputs": [
    {
     "data": {
      "application/vnd.jupyter.widget-view+json": {
       "model_id": "b59e10ba3cde4f7ba7353bfd3c297483",
       "version_major": 2,
       "version_minor": 0
      },
      "text/plain": [
       "VBox(children=(Dropdown(description='Components:', options=('Acetone/Methanol/Water', 'Ethanol/Water/Ethylene …"
      ]
     },
     "metadata": {},
     "output_type": "display_data"
    }
   ],
   "source": [
    "Fr_slider =  widgets.FloatLogSlider(value=0.64, min=-1, max=1, step=0.001,  description='Feed Ratio:', readout_format='.2f')\n",
    "go_button = widgets.Button(description='Create Model', width='15%', margin='0 10px 0 0')\n",
    "system_widget = widgets.Dropdown(\n",
    "    options=[\"Acetone/Methanol/Water\",\"Ethanol/Water/Ethylene Glycol\"],\n",
    "    description='Components:',\n",
    "    disabled=False\n",
    "    ) \n",
    "# Create a dropdown widget for middle_start\n",
    "middle_start_widget = widgets.Dropdown(\n",
    "    options=[2, 4, 6, 8, 10],\n",
    "    description='Middle Section Start:',\n",
    "    disabled=False\n",
    ")\n",
    "out_middle = Output()\n",
    "\n",
    "def plot_reflux_demo_ex5_demo4(Fr = Fr_slider, thermo_system = system_widget.value, middle_start=6):\n",
    "    thermo_choice = AceMethWaterSys\n",
    "    R = 1.35\n",
    "    if thermo_system == 'Ethanol/Water/Ethylene Glycol':\n",
    "        thermo_choice = EthWaterEGSys\n",
    "        R = 6\n",
    "    xFL = np.array([0.3, 0.6, 0.1])\n",
    "    xFU = np.array([0.2, 0.1, 0.7])\n",
    "    zF = (Fr/(1+Fr))*xFU + (1/(1+Fr))*xFL                                #Knapp Equation 5.9\n",
    "    xD = np.array([0.93, 0.04, 0.03]) \n",
    "    D_B = ((zF[0] - 0.02) / (xD[0] - zF[0]))                             #Knapp Equation 5.13, set xB[0] = 0.01\n",
    "    xB = np.array([0.02, (zF[1] - D_B*(xD[1]-zF[1])), (zF[2] - D_B*(xD[2]*zF[2]))])\n",
    "\n",
    "    distillation_model = DistillationModelDoubleFeed(thermo_model = thermo_choice, Fr = Fr, zF = zF, xFL = xFL, xFU = xFU, xD = xD, xB = xB, reflux = R)\n",
    "    fig, ax = plt.subplots(1,1,figsize= (5,10))\n",
    "    distillation_model.plot_rect_strip_comp(ax, middle_start=middle_start)\n",
    "    plt.subplots_adjust(hspace=0)\n",
    "    plt.show()\n",
    "\n",
    "\n",
    "def on_go_button_click(b):\n",
    "    with out_middle:\n",
    "        clear_output(wait=True)\n",
    "        plt.close('all')  # Close all open matplotlib plots\n",
    "        plot_reflux_demo_ex5_demo4(Fr=Fr_slider.value, thermo_system=system_widget.value, middle_start = middle_start_widget.value)\n",
    "        \n",
    "go_button = Button(description='Generate Plot')\n",
    "go_button.on_click(on_go_button_click)\n",
    "\n",
    "layout = VBox([system_widget,middle_start_widget, HBox([Fr_slider, go_button]), out_middle])\n",
    "display(layout)"
   ]
  }
 ],
 "metadata": {
  "kernelspec": {
   "display_name": "base",
   "language": "python",
   "name": "python3"
  },
  "language_info": {
   "codemirror_mode": {
    "name": "ipython",
    "version": 3
   },
   "file_extension": ".py",
   "mimetype": "text/x-python",
   "name": "python",
   "nbconvert_exporter": "python",
   "pygments_lexer": "ipython3",
   "version": "3.8.5"
  },
  "orig_nbformat": 4
 },
 "nbformat": 4,
 "nbformat_minor": 2
}
