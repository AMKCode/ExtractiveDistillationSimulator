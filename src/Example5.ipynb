{
 "cells": [
  {
   "cell_type": "markdown",
   "metadata": {},
   "source": [
    "## Example 5: Extractive Distillation"
   ]
  },
  {
   "cell_type": "code",
   "execution_count": 1,
   "metadata": {},
   "outputs": [],
   "source": [
    "import numpy as np\n",
    "import matplotlib.pyplot as plt\n",
    "import ipywidgets as widgets\n",
    "from IPython.display import display\n",
    "from thermo_models.RaoultsLawModel import *\n",
    "from distillation.DistillationModel import DistillationModel\n",
    "import utils.AntoineEquation as AE\n",
    "from IPython.display import clear_output\n",
    "from tqdm import tqdm\n",
    "from distillation.DistillationDoubleFeed import *\n",
    "import ipywidgets as widgets\n",
    "from IPython.display import display\n",
    "from ipywidgets import interactive, Button, VBox, HBox, Output\n",
    "from IPython.display import clear_output\n",
    "from thermo_models.VanLaarModel import *\n",
    "from distillation.residue_curves import *"
   ]
  },
  {
   "cell_type": "code",
   "execution_count": 2,
   "metadata": {},
   "outputs": [],
   "source": [
    "#Acetone (1 - Light) Methanol (2 - Intermediate) Water (3 - Heavy)\n",
    "#Table A.6 in Knapp \n",
    "A_ij = {\n",
    "    (1,1):0,\n",
    "    (1,2):182.0,\n",
    "    (1,3):795.0,\n",
    "    (2,1):196,\n",
    "    (2,2):0,\n",
    "    (2,3):332.6,\n",
    "    (3,1):490.0,\n",
    "    (3,2):163.80,\n",
    "    (3,3):0\n",
    "}\n",
    "\n",
    "#Different definition of Antoine where we have to take the negative of B\n",
    "Acet_A = 21.3099; Acet_B = 2801.53; Acet_C = -42.875\n",
    "Meth_A = 23.4832; Meth_B = 3634.01; Meth_C = -33.768\n",
    "#Assuming P < 2 atm\n",
    "Water_A = 23.2256; Water_B = 3835.18; Water_C = -45.343\n",
    "\n",
    "#Kanapp Thesis Figure 3.8 uses ln form of Antoine\n",
    "AcetoneAntoine = AE.AntoineEquationBaseE(Acet_A,Acet_B,Acet_C)\n",
    "MethanolAntoine = AE.AntoineEquationBaseE(Meth_A, Meth_B, Meth_C)\n",
    "WaterAntoine = AE.AntoineEquationBaseE(Water_A,Water_B,Water_C)\n",
    "        \n",
    "P_sys = 101325\n",
    "# Create a Raoult's law object\n",
    "AceMethWaterSys = VanLaarModel(num_comp = 3, P_sys = P_sys, A_coeff = A_ij, comp_names = [\"Acetone\",\"Methanol\",\"Water\"], partial_pressure_eqs = [AcetoneAntoine, MethanolAntoine, WaterAntoine])\n"
   ]
  },
  {
   "cell_type": "code",
   "execution_count": 3,
   "metadata": {},
   "outputs": [
    {
     "data": {
      "image/png": "[encoded data removed]",
      "text/plain": [
       "<Figure size 504x504 with 1 Axes>"
      ]
     },
     "metadata": {
      "needs_background": "light"
     },
     "output_type": "display_data"
    }
   ],
   "source": [
    "out_residue = Output()\n",
    "rcm = residue_curve(AceMethWaterSys)\n",
    "fig, ax = plt.subplots(1,1,figsize= (7,7))\n",
    "#rcm.plot_residue_curve_og(ax,15)"
   ]
  },
  {
   "cell_type": "markdown",
   "metadata": {},
   "source": [
    "#### Demo 2"
   ]
  },
  {
   "cell_type": "code",
   "execution_count": 13,
   "metadata": {},
   "outputs": [
    {
     "data": {
      "application/vnd.jupyter.widget-view+json": {
       "model_id": "134d20df5abf46eba42c3167070c6211",
       "version_major": 2,
       "version_minor": 0
      },
      "text/plain": [
       "interactive(children=(Dropdown(description='Middle Section Start:', options=(2, 4, 6, 8, 10), value=2), Output…"
      ]
     },
     "metadata": {},
     "output_type": "display_data"
    }
   ],
   "source": [
    "zF = np.array([0.25, 0.35, 0.4])\n",
    "xFL = np.array([0.3, 0.6, 0.1])\n",
    "xFU = np.array([0.2, 0.1, 0.7])\n",
    "xD = np.array([0.89, 0.05, 0.06]) \n",
    "xB = np.array([0.01, 0.40,0.59])\n",
    "R = 3\n",
    "Fr = 2.5\n",
    "distillation_model = DistillationModelDoubleFeed(AceMethWaterSys, Fr = Fr, zF = zF, xFL = xFL, xFU = xFU, xD = xD, xB = xB, reflux = R)\n",
    "\n",
    "# Create widgets\n",
    "middle_start_set = widgets.Dropdown(\n",
    "    options=[5, 10, 15, 20],\n",
    "    description='Set the Starting Point of the Middle Section:',\n",
    "    disabled=False\n",
    ")\n",
    "\n",
    "# Create an interactive plot function\n",
    "def interactive_plot(middle_start):\n",
    "    fig, ax = plt.subplots(1, 1, figsize=(5, 10))\n",
    "    distillation_model.plot_rect_strip_comp(ax, middle_start=middle_start)\n",
    "    plt.show()\n",
    "\n",
    "# Create a dropdown widget for middle_start\n",
    "middle_start_widget = widgets.Dropdown(\n",
    "    options=[2, 4, 6, 8, 10],\n",
    "    description='Middle Section Start:',\n",
    "    disabled=False\n",
    ")\n",
    "\n",
    "# Create an interactive plot with the dropdown widget\n",
    "interactive(interactive_plot, middle_start=middle_start_widget)"
   ]
  },
  {
   "cell_type": "markdown",
   "metadata": {},
   "source": [
    "### Demo 3\n",
    "A maximum reflux ration exists, around R=60?"
   ]
  },
  {
   "cell_type": "code",
   "execution_count": 18,
   "metadata": {},
   "outputs": [
    {
     "data": {
      "application/vnd.jupyter.widget-view+json": {
       "model_id": "b91fe01877c9456c931bfef4d70f13bd",
       "version_major": 2,
       "version_minor": 0
      },
      "text/plain": [
       "VBox(children=(HBox(children=(FloatSlider(value=0.1, description='Reflux Ratio:', readout_format='.1f', step=0…"
      ]
     },
     "metadata": {},
     "output_type": "display_data"
    }
   ],
   "source": [
    "R_slider =  widgets.FloatSlider(value=0.1, min=0, max=100, step=0.001,  description='Reflux Ratio:', readout_format='.1f')\n",
    "go_button = widgets.Button(description='Create Model', width='15%', margin='0 10px 0 0')\n",
    "out_middle = Output()\n",
    "\n",
    "def plot_reflux_demo_ex5(R = R_slider):\n",
    "    plt.close('all')  # Ensure that any existing figures are closed before plotting a new one.\n",
    "    zF = np.array([0.25, 0.35, 0.4])\n",
    "    xFL = np.array([0.3, 0.6, 0.1])\n",
    "    xFU = np.array([0.2, 0.1, 0.7])\n",
    "    xD = np.array([0.89, 0.05, 0.06]) \n",
    "    xB = np.array([0.01, 0.40,0.59])\n",
    "    middle_start = 6\n",
    "    distillation_model = DistillationModelDoubleFeed(AceMethWaterSys, Fr = Fr, zF = zF, xFL = xFL, xFU = xFU, xD = xD, xB = xB, reflux = R)\n",
    "    fig, ax = plt.subplots(1,1,figsize= (5,10))\n",
    "    distillation_model.plot_rect_strip_comp(ax, middle_start=middle_start)\n",
    "    plt.subplots_adjust(hspace=0)\n",
    "    plt.show()\n",
    "\n",
    "\n",
    "\n",
    "def on_go_button_click(b):\n",
    "    with out_middle:\n",
    "        clear_output(wait=True)\n",
    "        plt.close('all')  # Close all open matplotlib plots\n",
    "        plot_reflux_demo_ex5(R=R_slider.value)\n",
    "        \n",
    "go_button = Button(description='Generate Plot')\n",
    "go_button.on_click(on_go_button_click)\n",
    "\n",
    "layout = VBox([HBox([R_slider, go_button]), out_middle])\n",
    "display(layout)\n"
   ]
  }
 ],
 "metadata": {
  "kernelspec": {
   "display_name": "base",
   "language": "python",
   "name": "python3"
  },
  "language_info": {
   "codemirror_mode": {
    "name": "ipython",
    "version": 3
   },
   "file_extension": ".py",
   "mimetype": "text/x-python",
   "name": "python",
   "nbconvert_exporter": "python",
   "pygments_lexer": "ipython3",
   "version": "3.8.5"
  },
  "orig_nbformat": 4
 },
 "nbformat": 4,
 "nbformat_minor": 2
}
