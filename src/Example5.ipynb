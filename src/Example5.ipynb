{
 "cells": [
  {
   "cell_type": "markdown",
   "metadata": {},
   "source": [
    "## Example 5: Extractive Distillation"
   ]
  },
  {
   "cell_type": "code",
   "execution_count": 1,
   "metadata": {},
   "outputs": [],
   "source": [
    "import numpy as np\n",
    "import matplotlib.pyplot as plt\n",
    "import ipywidgets as widgets\n",
    "from IPython.display import display\n",
    "from thermo_models.RaoultsLawModel import *\n",
    "from distillation.DistillationModel import DistillationModel\n",
    "import utils.AntoineEquation as AE\n",
    "from IPython.display import clear_output\n",
    "from tqdm import tqdm\n",
    "from distillation.DistillationDoubleFeed import *\n",
    "import ipywidgets as widgets\n",
    "from IPython.display import display\n",
    "from ipywidgets import interactive, Button, VBox, HBox, Output\n",
    "from IPython.display import clear_output\n",
    "from thermo_models.VanLaarModel import *\n",
    "from distillation.residue_curves import *"
   ]
  },
  {
   "cell_type": "code",
   "execution_count": 2,
   "metadata": {},
   "outputs": [],
   "source": [
    "#Acetone (1 - Light) Methanol (2 - Intermediate) Water (3 - Heavy)\n",
    "#Table A.6 in Knapp \n",
    "A_ij = {\n",
    "    (1,1):0,\n",
    "    (1,2):182.0,\n",
    "    (1,3):795.0,\n",
    "    (2,1):196,\n",
    "    (2,2):0,\n",
    "    (2,3):332.6,\n",
    "    (3,1):490.0,\n",
    "    (3,2):163.80,\n",
    "    (3,3):0\n",
    "}\n",
    "\n",
    "#Different definition of Antoine where we have to take the negative of B\n",
    "Acet_A = 21.3099; Acet_B = 2801.53; Acet_C = -42.875\n",
    "Meth_A = 23.4832; Meth_B = 3634.01; Meth_C = -33.768\n",
    "#Assuming P < 2 atm\n",
    "Water_A = 23.2256; Water_B = 3835.18; Water_C = -45.343\n",
    "\n",
    "#Kanapp Thesis Figure 3.8 uses ln form of Antoine\n",
    "AcetoneAntoine = AE.AntoineEquationBaseE(Acet_A,Acet_B,Acet_C)\n",
    "MethanolAntoine = AE.AntoineEquationBaseE(Meth_A, Meth_B, Meth_C)\n",
    "WaterAntoine = AE.AntoineEquationBaseE(Water_A,Water_B,Water_C)\n",
    "        \n",
    "P_sys = 1.0325\n",
    "# Create a Raoult's law object\n",
    "AceMethWaterSys = VanLaarModel(3, P_sys = P_sys, A_coeff = A_ij, comp_names = [\"Ace\",\"Meth\",\"Water\"], partial_pressure_eqs = [AcetoneAntoine, MethanolAntoine, WaterAntoine], A=None, B=None)\n"
   ]
  },
  {
   "cell_type": "code",
   "execution_count": 3,
   "metadata": {},
   "outputs": [
    {
     "name": "stdout",
     "output_type": "stream",
     "text": [
      "convxtoy Runs: 500 fvec: [-0.2539455  -0.25392391 -0.25392353 -0.26218602]\n"
     ]
    },
    {
     "name": "stderr",
     "output_type": "stream",
     "text": [
      "c:\\Users\\kelle\\newCTEI\\ctei_ext_distillation\\src\\utils\\AntoineEquation.py:89: RuntimeWarning: overflow encountered in exp\n",
      "  return np.exp((self.A - self.B/(Temp + self.C)))\n"
     ]
    },
    {
     "name": "stdout",
     "output_type": "stream",
     "text": [
      "convxtoy Runs: 500 fvec: [-0.25379769 -0.25524288 -0.25344353 -0.26151661]\n"
     ]
    },
    {
     "name": "stderr",
     "output_type": "stream",
     "text": [
      "c:\\Users\\kelle\\newCTEI\\ctei_ext_distillation\\src\\thermo_models\\VLEModelBaseClass.py:165: RuntimeWarning: overflow encountered in multiply\n",
      "  lefths = x_array * self.get_activity_coefficient(x_array, Temp=Temp) * self.get_vapor_pressure(Temp)\n"
     ]
    },
    {
     "name": "stdout",
     "output_type": "stream",
     "text": [
      "convxtoy Runs: 500 fvec: [-0.25517724 -0.25294665 -0.25281283 -0.26301529]\n",
      "convxtoy Runs: 500 fvec: [-0.25435722 -0.25350169 -0.2535644  -0.26254401]\n",
      "convxtoy Runs: 500 fvec: [-0.25393163 -0.25393152 -0.25393153 -0.26218434]\n",
      "convxtoy Runs: 500 fvec: [-0.25463881 -0.25380188 -0.25382744 -0.26172578]\n",
      "convxtoy Runs: 500 fvec: [-0.25399406 -0.25389177 -0.25389933 -0.26219355]\n",
      "convxtoy Runs: 500 fvec: [-0.25472037 -0.25333064 -0.25315005 -0.26275926]\n",
      "convxtoy Runs: 500 fvec: [-0.25470685 -0.2537618  -0.25380116 -0.26172415]\n",
      "convxtoy Runs: 500 fvec: [-0.25455288 -0.25337767 -0.25339736 -0.26263641]\n",
      "convxtoy Runs: 500 fvec: [-0.25422587 -0.2537352  -0.25374504 -0.26227011]\n",
      "convxtoy Runs: 500 fvec: [-0.25399781 -0.25393366 -0.25393447 -0.26211532]\n",
      "convxtoy Runs: 500 fvec: [-0.25467867 -0.25366656 -0.25367009 -0.26197065]\n",
      "convxtoy Runs: 500 fvec: [-0.25408649 -0.25383474 -0.25384219 -0.26221461]\n",
      "convxtoy Runs: 500 fvec: [-0.25437277 -0.25352407 -0.25355181 -0.26251947]\n",
      "convxtoy Runs: 500 fvec: [-0.25462478 -0.25336693 -0.25340045 -0.26257417]\n",
      "convxtoy Runs: 500 fvec: [-0.2539831  -0.25385192 -0.25385281 -0.26228781]\n",
      "convxtoy Runs: 500 fvec: [-0.25504451 -0.25356853 -0.25354057 -0.26183671]\n",
      "convxtoy Runs: 500 fvec: [-0.25393544 -0.25392946 -0.25392932 -0.26218477]\n",
      "convxtoy Runs: 500 fvec: [-0.25507584 -0.25289054 -0.25291058 -0.26307317]\n",
      "convxtoy Runs: 500 fvec: [-0.25490609 -0.2536757  -0.25368509 -0.26172699]\n",
      "convxtoy Runs: 500 fvec: [-0.25416866 -0.25393608 -0.25393812 -0.26194397]\n"
     ]
    }
   ],
   "source": [
    "out_residue = Output()\n",
    "rcm = residue_curve(AceMethWaterSys)\n",
    "fig, ax = plt.subplots(1,1,figsize= (7,7))\n",
    "rcm.plot_residue_curve_int(ax,15)"
   ]
  }
 ],
 "metadata": {
  "kernelspec": {
   "display_name": "base",
   "language": "python",
   "name": "python3"
  },
  "language_info": {
   "codemirror_mode": {
    "name": "ipython",
    "version": 3
   },
   "file_extension": ".py",
   "mimetype": "text/x-python",
   "name": "python",
   "nbconvert_exporter": "python",
   "pygments_lexer": "ipython3",
   "version": "3.8.5"
  },
  "orig_nbformat": 4
 },
 "nbformat": 4,
 "nbformat_minor": 2
}
