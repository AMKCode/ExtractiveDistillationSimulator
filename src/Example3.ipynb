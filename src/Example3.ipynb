{
 "cells": [
  {
   "cell_type": "code",
   "execution_count": 1,
   "metadata": {},
   "outputs": [],
   "source": [
    "import numpy as np\n",
    "import matplotlib.pyplot as plt\n",
    "from typing import List, Tuple\n",
    "from scipy.optimize import fsolve\n",
    "import ipywidgets as widgets\n",
    "from IPython.display import display\n",
    "from thermo_models.RaoultsLawModel import *\n",
    "from distillation.DistillationModel import DistillationModel\n",
    "from utils.AntoineEquation import AntoineEquation \n",
    "from IPython.display import clear_output\n",
    "from tqdm import tqdm\n",
    "import ipywidgets as widgets\n",
    "from IPython.display import display\n",
    "from thermo_models.VLEEmpiricalModel import *"
   ]
  },
  {
   "cell_type": "code",
   "execution_count": 2,
   "metadata": {},
   "outputs": [
    {
     "data": {
      "application/vnd.jupyter.widget-view+json": {
       "model_id": "f0ca65a231f94e84b5072e53f3892d62",
       "version_major": 2,
       "version_minor": 0
      },
      "text/plain": [
       "interactive(children=(FloatSlider(value=0.95, description='$x_D$:', max=1.0, step=0.0001), FloatSlider(value=0…"
      ]
     },
     "metadata": {},
     "output_type": "display_data"
    }
   ],
   "source": [
    "#Define empirical relationship\n",
    "def xtoy(x):\n",
    "    a, b = 9, -0.6\n",
    "    y = a*x/(1+(a-1)*x) +b*x*(1 - x)\n",
    "    return y\n",
    "\n",
    "# Create a Raoult's law object\n",
    "vle_model = VLEEmpiricalModelBinary(xtoy)\n",
    "# Define the sliders:\n",
    "xD1_slider = widgets.FloatSlider(value=0.95, min=0, max=1, step=0.0001, description='$x_D$:', readout_format='.2f')\n",
    "xB1_slider = widgets.FloatSlider(value=0.05, min=0, max=1, step=0.0001, description='$x_B$:', readout_format='.2f')\n",
    "R1_slider =  widgets.FloatLogSlider(value=1.0, base=10, min=-2, max=2, step=0.001,  description='Reflux Ratio:', readout_format='.1f')\n",
    "\n",
    "def plot_distil_binary(xD=xD1_slider.value, xB=xB1_slider.value, R=R1_slider.value):\n",
    "    distillation_model = DistillationModel(vle_model, xF = np.array([0.5, 0.5]), xD = np.array([xD, 1 - xD]), xB = np.array([xB, 1 - xB]), reflux = R)\n",
    "    fig, axs = plt.subplots(2, 3, figsize=(15, 5), gridspec_kw={'height_ratios': [40, 1]}, sharex='col')\n",
    "    axs = distillation_model.plot_distil_binary(axs = axs)\n",
    "    plt.subplots_adjust(hspace=0)\n",
    "\n",
    "# Create the interactive widget:\n",
    "interactive_plot = widgets.interactive(plot_distil_binary, xD = xD1_slider, xB = xB1_slider, R = R1_slider)\n",
    "\n",
    "# Display the interactive widget:\n",
    "display(interactive_plot)\n",
    "\n",
    "# Set the default value to be the minimum reflux ratio\n"
   ]
  },
  {
   "cell_type": "code",
   "execution_count": 3,
   "metadata": {},
   "outputs": [
    {
     "data": {
      "application/vnd.jupyter.widget-view+json": {
       "model_id": "606d9b1f0b9f48d7b8f46ef02c46093b",
       "version_major": 2,
       "version_minor": 0
      },
      "text/plain": [
       "interactive(children=(FloatSlider(value=1.0, description='R max:', readout_format='.1f', step=1.0), FloatSlide…"
      ]
     },
     "metadata": {},
     "output_type": "display_data"
    }
   ],
   "source": [
    "# Define the sliders:\n",
    "xD2_slider = widgets.FloatSlider(value=0.95, min=0, max=1, step=0.0001, description='$x_D$:', readout_format='.2f')\n",
    "xB2_slider = widgets.FloatSlider(value=0.05, min=0, max=1, step=0.0001, description='$x_B$:', readout_format='.2f')\n",
    "r_max_slider = widgets.FloatSlider(value=1.0, min=0, max=100, step=1, description='R max:', readout_format='.1f')\n",
    "\n",
    "\n",
    "def plot_r_vs_fixedpoints(r_max = r_max_slider.value, xD=xD2_slider.value, xB=xB2_slider.value):\n",
    "    clear_output(wait=True)\n",
    "    display(\"Calculating... Please wait.\")\n",
    "    r_values = np.linspace(0.001, r_max, 100)\n",
    "    x_fixed_r_arr = []\n",
    "    x_fixed_s_arr = []\n",
    "\n",
    "    for r in tqdm(r_values, desc=\"Progress\"):\n",
    "        distillation_model = DistillationModel(vle_model, xF=np.array([0.5, 0.5]), xD=np.array([xD, 1 - xD]), xB=np.array([xB, 1 - xB]), reflux=r)\n",
    "        x_fixed_r, _ = distillation_model.find_rect_fixedpoints_binary(100)\n",
    "        x_fixed_s, _ = distillation_model.find_strip_fixedpoints_binary(100)\n",
    "        x_fixed_r_arr.append(x_fixed_r)\n",
    "        x_fixed_s_arr.append(x_fixed_s)\n",
    "\n",
    "    # flatten the lists and repeat the r_values according to the number of x values\n",
    "    r_values_r = np.repeat(r_values, [len(x) for x in x_fixed_r_arr])\n",
    "    r_values_s = np.repeat(r_values, [len(x) for x in x_fixed_s_arr])\n",
    "    x_fixed_r_arr = np.hstack(x_fixed_r_arr)\n",
    "    x_fixed_s_arr = np.hstack(x_fixed_s_arr)\n",
    "\n",
    "    plt.scatter(r_values_r, x_fixed_r_arr,marker = 'x')\n",
    "    plt.scatter(r_values_s, x_fixed_s_arr, marker ='x')\n",
    "    plt.xlabel(\"Reflux Ratio\")\n",
    "    plt.ylabel(\"x\")\n",
    "    plt.show()\n",
    "\n",
    "\n",
    "# Create the interactive widget:\n",
    "interactive_plot = widgets.interactive(plot_r_vs_fixedpoints, xD=xD2_slider, xB=xB2_slider, r_max = r_max_slider) \n",
    "\n",
    "# Display the interactive widget:\n",
    "display(interactive_plot)"
   ]
  }
 ],
 "metadata": {
  "kernelspec": {
   "display_name": "base",
   "language": "python",
   "name": "python3"
  },
  "language_info": {
   "codemirror_mode": {
    "name": "ipython",
    "version": 3
   },
   "file_extension": ".py",
   "mimetype": "text/x-python",
   "name": "python",
   "nbconvert_exporter": "python",
   "pygments_lexer": "ipython3",
   "version": "3.8.8"
  },
  "orig_nbformat": 4
 },
 "nbformat": 4,
 "nbformat_minor": 2
}
