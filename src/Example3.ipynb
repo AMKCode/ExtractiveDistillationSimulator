{
 "cells": [
  {
   "cell_type": "markdown",
   "metadata": {},
   "source": [
    "# Example 3: Binary Mixture with a Tangent Pinch"
   ]
  },
  {
   "cell_type": "markdown",
   "metadata": {},
   "source": [
    "#### A mixture of Benzene and Ethylenediamine has an additional constraint on the Reflux Ratio due to a pinch point on the equilibrium curve"
   ]
  },
  {
   "cell_type": "markdown",
   "metadata": {},
   "source": []
  },
  {
   "cell_type": "code",
   "execution_count": 1,
   "metadata": {},
   "outputs": [],
   "source": [
    "## IMPORT NECESSARY LIBRARIES ##\n",
    "import numpy as np\n",
    "import matplotlib.pyplot as plt\n",
    "import ipywidgets as widgets\n",
    "from IPython.display import display\n",
    "from thermo_models.RaoultsLawModel import *\n",
    "from distillation.DistillationModel import DistillationModel\n",
    "from distillation.DistillationBinary import DistillationModelBinary\n",
    "from IPython.display import clear_output\n",
    "from tqdm import tqdm\n",
    "import ipywidgets as widgets\n",
    "from IPython.display import display\n",
    "from thermo_models.VLEEmpiricalModel import *\n",
    "from IPython.display import display\n",
    "from ipywidgets import interactive, Button, VBox, HBox, Output\n",
    "from IPython.display import clear_output\n",
    "import matplotlib.pyplot as plt\n"
   ]
  },
  {
   "cell_type": "code",
   "execution_count": 2,
   "metadata": {},
   "outputs": [],
   "source": [
    "\n",
    "#Define empirical relationship\n",
    "def xtoy(x):\n",
    "    a, b = 9, -0.6\n",
    "    y = a*x/(1+(a-1)*x) +b*x*(1 - x)\n",
    "    return y\n",
    "\n",
    "# Create a Raoult's law object\n",
    "vle_model = VLEEmpiricalModelBinary(xtoy)\n",
    "\n",
    "# Define the sliders:\n",
    "xD1_slider = widgets.FloatSlider(value=0.95, min=0.5, max=0.999, step=0.0001, description='$x_D$:', readout_format='.2f')\n",
    "xB1_slider = widgets.FloatSlider(value=0.05, min=0, max=0.5, step=0.0001, description='$x_B$:', readout_format='.2f')\n",
    "R1_slider =  widgets.FloatLogSlider(value=1.0, base=10, min=-1, max=1, step=0.001,  description='Reflux Ratio:', readout_format='.1f')\n",
    "R2_slider =  widgets.FloatSlider(value=1.00, min=0.8, max=1.2, step=0.0001, description='Reflux Ratio:', readout_format='.2f')\n",
    "\n",
    "def plot_distil_oplines_ex2(xD=xD1_slider.value, xB=xB1_slider.value, R=R1_slider.value):\n",
    "    plt.close('all')  # Ensure that any existing figures are closed before plotting a new one.\n",
    "    distillation_model = DistillationModelBinary(vle_model, xF = np.array([0.5, 0.5]), xD = np.array([xD, 1 - xD]), xB = np.array([xB, 1 - xB]), reflux = R)\n",
    "    fig, axs = plt.subplots(2, 3, figsize=(15, 5), gridspec_kw={'height_ratios': [40, 1]}, sharex='col')\n",
    "    distillation_model.plot_distil_strip_binary(axs[0][0], axs[1][0])\n",
    "    distillation_model.plot_distil_rect_binary(axs[0][1], axs[1][1])\n",
    "    distillation_model.plot_distil_binary(axs[0][2], axs[1][2])\n",
    "    plt.subplots_adjust(hspace=0)\n",
    "    plt.show()  # Ensure the plot is displayed in Jupyter.\n",
    "\n",
    "def plot_distil_stripping_ex2(xD=xD1_slider.value, xB=xB1_slider.value, R=R1_slider.value):\n",
    "    plt.close('all')  # Ensure that any existing figures are closed.\n",
    "    fig, axs = plt.subplots(2, 1, figsize=(7, 7), gridspec_kw={'height_ratios': [40, 1]}, sharex='col')\n",
    "    distillation_model = DistillationModelBinary(vle_model, xF=np.array([0.5, 0.5]), xD=np.array([xD, 1 - xD]), xB=np.array([xB, 1 - xB]), reflux=R)\n",
    "    distillation_model.plot_distil_strip_binary(ax=axs[0], ax_fixed=axs[1])\n",
    "    plt.subplots_adjust(hspace=0)\n",
    "    plt.show()  # This is essential for the plot to be displayed in the Output widget in Jupyter.\n",
    "    \n",
    "def plot_distil_rectifying_ex2_demo2(xD=0.95, xB=0.05, R=R2_slider.value):\n",
    "    plt.close('all')  # Ensure that any existing figures are closed before plotting a new one.\n",
    "    distillation_model = DistillationModelBinary(vle_model, xF=np.array([0.5, 0.5]), xD=np.array([xD, 1 - xD]), xB=np.array([xB, 1 - xB]), reflux=R)\n",
    "    fig, axs = plt.subplots(2, 2, figsize=(14, 7), gridspec_kw={'height_ratios': [40, 1]}, sharex='col')\n",
    "\n",
    "    distillation_model.plot_distil_rect_binary(ax=axs[0, 0], ax_fixed=axs[1, 0])\n",
    "    distillation_model.plot_distil_rect_binary(ax=axs[0, 1], ax_fixed=axs[1, 1], zoom_factor = 1)\n",
    "    \n",
    "    plt.subplots_adjust(hspace=0, wspace=0.4)  # Adjust spacing between subplots\n",
    "    plt.show()  # Ensure the plot is displayed in Jupyter.\n",
    "\n",
    "def plot_distil_rectifying_ex2_demo3(xD=0.95, xB=0.05, R=R2_slider.value):\n",
    "    plt.close('all')  # Ensure that any existing figures are closed before plotting a new one.\n",
    "    distillation_model = DistillationModelBinary(vle_model, xF=np.array([0.5, 0.5]), xD=np.array([xD, 1 - xD]), xB=np.array([xB, 1 - xB]), reflux=R)\n",
    "    fig, axs = plt.subplots(2, 1, figsize=(7, 7), gridspec_kw={'height_ratios': [40, 1]}, sharex='col')\n",
    "    distillation_model.plot_distil_rect_binary(ax=axs[0], ax_fixed=axs[1])\n",
    "    plt.subplots_adjust(hspace=0)  \n",
    "    plt.show()  # Ensure the plot is displayed in Jupyter.\n",
    "    \n",
    "out_strip = Output()\n",
    "out_rect2 = Output()\n",
    "out_rect3 = Output()\n",
    "out_oplines = Output()"
   ]
  },
  {
   "cell_type": "markdown",
   "metadata": {},
   "source": [
    "###  Demo 2: Rectifying Pinch Region\n",
    "\n",
    "##### The inflection point in the equilibrum curve restricts the range of feasible reflux rations when the Distillate Composition $x_D$ is sufficiently high (set at 0.95 for this Demo).\n",
    "\n",
    "##### Move the Reflux Ratio to see how it affects the number of stages near the pinch point."
   ]
  },
  {
   "cell_type": "code",
   "execution_count": 3,
   "metadata": {},
   "outputs": [
    {
     "data": {
      "application/vnd.jupyter.widget-view+json": {
       "model_id": "7742280b93eb4128a208c9136fe4e74f",
       "version_major": 2,
       "version_minor": 0
      },
      "text/plain": [
       "VBox(children=(FloatSlider(value=1.0, description='Reflux Ratio:', max=1.2, min=0.8, step=0.0001), Button(desc…"
      ]
     },
     "metadata": {},
     "output_type": "display_data"
    }
   ],
   "source": [
    "# Create your interactive widget but don't display it\n",
    "rect_plot = interactive(plot_distil_rectifying_ex2_demo2, xD=0.95, xB=0.05, R=R2_slider, continuous_update=False)\n",
    "\n",
    "# Define your button click behavior\n",
    "def on_rect_button_click(b):\n",
    "    with out_rect2:\n",
    "        clear_output(wait=True)\n",
    "        plt.close('all')  # Close all open matplotlib plots\n",
    "        plot_distil_rectifying_ex2_demo2(xD=0.95, xB=0.05, R=R2_slider.value)\n",
    "\n",
    "rect_button = Button(description='Generate Plot')\n",
    "rect_button.on_click(on_rect_button_click)\n",
    "\n",
    "layout = VBox([R2_slider, rect_button, out_rect2])\n",
    "display(layout)"
   ]
  },
  {
   "cell_type": "markdown",
   "metadata": {},
   "source": [
    "### Demo 3: Low Distillate Purity\n",
    "\n",
    "##### While the Reflux Ratio may seem like the paramter that determines feasability, the Distillate Composition $x_D$ can also determine feasability.\n",
    "\n",
    "##### Here $x_D$ is set to equal 0.80, making the tangent pinch no longer a concern. "
   ]
  },
  {
   "cell_type": "code",
   "execution_count": 4,
   "metadata": {},
   "outputs": [
    {
     "data": {
      "application/vnd.jupyter.widget-view+json": {
       "model_id": "015fb30bfd734ad2b780d7b52c51863a",
       "version_major": 2,
       "version_minor": 0
      },
      "text/plain": [
       "VBox(children=(FloatLogSlider(value=1.0, description='Reflux Ratio:', max=1.0, min=-1.0, readout_format='.1f',…"
      ]
     },
     "metadata": {},
     "output_type": "display_data"
    }
   ],
   "source": [
    "# Create your interactive widget but don't display it\n",
    "rect_plot = interactive(plot_distil_rectifying_ex2_demo3, xD=0.80, xB=0.05, R=R1_slider, continuous_update=False)\n",
    "\n",
    "# Define your button click behavior\n",
    "def on_rect_button_click(b):\n",
    "    with out_rect3:\n",
    "        clear_output(wait=True)\n",
    "        plt.close('all')  # Close all open matplotlib plots\n",
    "        plot_distil_rectifying_ex2_demo3(xD=0.80, xB=0.05, R=R1_slider.value)\n",
    "\n",
    "rect_button = Button(description='Generate Plot')\n",
    "rect_button.on_click(on_rect_button_click)\n",
    "\n",
    "layout = VBox([R1_slider, rect_button, out_rect3])\n",
    "display(layout)"
   ]
  },
  {
   "cell_type": "code",
   "execution_count": 5,
   "metadata": {},
   "outputs": [
    {
     "data": {
      "application/vnd.jupyter.widget-view+json": {
       "model_id": "d4318a7315864ec9b0610fa648ee5add",
       "version_major": 2,
       "version_minor": 0
      },
      "text/plain": [
       "VBox(children=(HBox(children=(FloatSlider(value=0.95, description='$x_D$:', max=0.999, min=0.5, step=0.0001), …"
      ]
     },
     "metadata": {},
     "output_type": "display_data"
    }
   ],
   "source": [
    "# Create your interactive widget but don't display it\n",
    "oplines_plot = interactive(plot_distil_oplines_ex2, xD=xD1_slider, xB=xB1_slider, R=R1_slider, continuous_update=False)\n",
    "\n",
    "# Define your button click behavior\n",
    "def on_oplines_button_click(b):\n",
    "    with out_oplines:\n",
    "        clear_output(wait=True)\n",
    "        plt.close('all')  # Close all open matplotlib plots\n",
    "        plot_distil_oplines_ex2(xD=xD1_slider.value, xB=xB1_slider.value, R=R1_slider.value)\n",
    "\n",
    "oplines_button = Button(description='Generate Oplines Plot')\n",
    "oplines_button.on_click(on_oplines_button_click)\n",
    "\n",
    "layout_oplines = VBox([HBox(oplines_plot.children[:-1]), oplines_button, out_oplines])\n",
    "display(layout_oplines)"
   ]
  },
  {
   "cell_type": "code",
   "execution_count": 6,
   "metadata": {},
   "outputs": [],
   "source": [
    "# # Create the interactive widget:\n",
    "# fixed_points_reflux = widgets.interactive(plot_r_vs_fixedpoints_ex2, xD=xD2_slider, xB=xB2_slider, r_max = r_max_slider) \n",
    "\n",
    "# # Display the interactive widget:\n",
    "# display(fixed_points_reflux)"
   ]
  },
  {
   "cell_type": "code",
   "execution_count": 7,
   "metadata": {},
   "outputs": [],
   "source": [
    "from scipy.misc import derivative\n",
    "\n"
   ]
  }
 ],
 "metadata": {
  "kernelspec": {
   "display_name": "base",
   "language": "python",
   "name": "python3"
  },
  "language_info": {
   "codemirror_mode": {
    "name": "ipython",
    "version": 3
   },
   "file_extension": ".py",
   "mimetype": "text/x-python",
   "name": "python",
   "nbconvert_exporter": "python",
   "pygments_lexer": "ipython3",
   "version": "3.8.5"
  },
  "orig_nbformat": 4
 },
 "nbformat": 4,
 "nbformat_minor": 2
}
