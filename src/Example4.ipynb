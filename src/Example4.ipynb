{
 "cells": [
  {
   "cell_type": "code",
   "execution_count": 1,
   "metadata": {},
   "outputs": [],
   "source": [
    "import numpy as np\n",
    "import matplotlib.pyplot as plt\n",
    "import ipywidgets as widgets\n",
    "from IPython.display import display\n",
    "from thermo_models.RaoultsLawModel import *\n",
    "from distillation.DistillationModel import DistillationModel\n",
    "from utils.AntoineEquation import * \n",
    "from IPython.display import clear_output\n",
    "from tqdm import tqdm\n",
    "from distillation.DistillationTernary import *\n",
    "import ipywidgets as widgets\n",
    "from IPython.display import display\n",
    "from ipywidgets import interactive, Button, VBox, HBox, Output\n",
    "from IPython.display import clear_output\n",
    "from thermo_models.MargulesModel import *\n",
    "from thermo_models.WilsonModel import *\n"
   ]
  },
  {
   "cell_type": "code",
   "execution_count": 2,
   "metadata": {},
   "outputs": [],
   "source": [
    "A_ = np.array([[0, -316.699, 350.100], [-384.657, 0, 307.000],[290.200, 143.00, 0]])\n",
    "\n",
    "#Example 4 in Fidkowski is at 1 atm = 760 mmHg\n",
    "P_sys = 1.01325 #bar\n",
    "\n",
    "#Antoine parameters from table 2.1 in page 25 of Doherty Malone Distillation Textbook\n",
    "#Units: P_sat in mmHg and Temperature in Celsius \n",
    "#Form is P_sat = A - B/(T+C)\n",
    "\n",
    "#Antoine parameters from NIST (Kelvin, Bar)\n",
    "#Acetaldehyde\n",
    "Acet_A = 3.68639\n",
    "Acet_B = 822.894\n",
    "Acet_C = -69.899\n",
    "#Methanol\n",
    "Me_A = 5.31301\n",
    "Me_B = 1676.569\n",
    "Me_C = -21.728\n",
    "#Water\n",
    "H2O_A = 3.55959\n",
    "H2O_B = 643.748\n",
    "H2O_C = -198.043\n",
    "\n",
    "#Antoine Equations \n",
    "Acet_antoine = AE.AntoineEquationBase10(Acet_A, Acet_B, Acet_C)\n",
    "H2O_antoine = AE.AntoineEquationBase10(H2O_A, H2O_B, H2O_C)\n",
    "Methanol_antoine = AE.AntoineEquationBase10(Me_A, Me_B, Me_C)\n",
    "\n",
    "vle_model = MargulesModelTernary(3,1,A_,[\"Acet\", \"Meth\",\"H2O\"],[Acet_antoine, Methanol_antoine, H2O_antoine], True)"
   ]
  },
  {
   "cell_type": "code",
   "execution_count": 3,
   "metadata": {},
   "outputs": [],
   "source": [
    "R1_slider =  widgets.FloatSlider(value=0.1, min=0, max=2, step=0.001,  description='Reflux Ratio:', readout_format='.1f')\n",
    "R2_slider =  widgets.FloatSlider(value=0.1, min=0, max=2, step=0.001,  description='Reflux Ratio:', readout_format='.1f')\n",
    "go_button = widgets.Button(description='Create Model', width='15%', margin='0 10px 0 0')\n",
    "out_1 = Output()\n",
    "out_2 = Output()\n",
    "\n",
    "def plot_rect(R = R1_slider):\n",
    "    plt.close('all')  # Ensure that any existing figures are closed before plotting a new one.\n",
    "    xF = np.array([0.3, 0.3, 0.4])\n",
    "    xD = np.array([0.5030, 0.4960, 0.0010])\n",
    "    xB = np.array([1e-10, 0.0103,0.9897])\n",
    "    distillation_model = DistillationModelTernary(vle_model, xF = xF, xD = xD, xB = xB, reflux = R)\n",
    "    fig, ax = plt.subplots(1,1,figsize= (5,5))\n",
    "    distillation_model.plot_rect_comp(ax)\n",
    "    plt.subplots_adjust(hspace=0)\n",
    "    plt.show()\n",
    "\n",
    "def plot_rect_strip(R = R2_slider):\n",
    "    plt.close('all')  # Ensure that any existing figures are closed before plotting a new one.\n",
    "    xF = np.array([0.3, 0.3, 0.4])\n",
    "    xD = np.array([0.5030, 0.4960, 0.0010])\n",
    "    xB = np.array([1e-10, 0.0103,0.9897])\n",
    "    distillation_model = DistillationModelTernary(vle_model, xF = xF, xD = xD, xB = xB, reflux = R)\n",
    "    fig, ax = plt.subplots(1,1,figsize= (5,5))\n",
    "    distillation_model.plot_rect_strip_comp(ax)\n",
    "    \n",
    "    # for index,point in enumerate(fixed_points['values']):\n",
    "    #     ax.scatter(point[0], point[1], marker='x', color='black', s=100, linewidths= 10)\n",
    "    #     if fixed_points['source_indices'][index] == 0:\n",
    "    #         label = \"Unstable\"\n",
    "    #     elif fixed_points['source_indices'][index] == 1:\n",
    "    #         label = \"saddle\"\n",
    "    #     elif fixed_points['source_indices'][index] == 2:\n",
    "    #         label = \"stable\"\n",
    "    #     else:\n",
    "    #         label = \"unexpected node: error\"\n",
    "        # ax.text(point[0], point[1], f' {label}', verticalalignment='bottom', horizontalalignment='right')\n",
    "    plt.subplots_adjust(hspace=0)\n",
    "    plt.show()"
   ]
  },
  {
   "cell_type": "code",
   "execution_count": 4,
   "metadata": {},
   "outputs": [
    {
     "data": {
      "application/vnd.jupyter.widget-view+json": {
       "model_id": "f2d159cd6edc436988903b4eef64fe9d",
       "version_major": 2,
       "version_minor": 0
      },
      "text/plain": [
       "VBox(children=(HBox(children=(FloatSlider(value=0.1, description='Reflux Ratio:', max=2.0, readout_format='.1f…"
      ]
     },
     "metadata": {},
     "output_type": "display_data"
    }
   ],
   "source": [
    "def on_go_button_click(b):\n",
    "    with out_1:\n",
    "        clear_output(wait=True)\n",
    "        plt.close('all')  # Close all open matplotlib plots\n",
    "        plot_rect( R=R1_slider.value)\n",
    "        \n",
    "go_button = Button(description='Generate Plot')\n",
    "go_button.on_click(on_go_button_click)\n",
    "\n",
    "layout = VBox([HBox([R1_slider, go_button]), out_1])\n",
    "display(layout)"
   ]
  },
  {
   "cell_type": "code",
   "execution_count": 5,
   "metadata": {},
   "outputs": [
    {
     "data": {
      "application/vnd.jupyter.widget-view+json": {
       "model_id": "bb07cd0c692e4972a15ce8e8a57e9051",
       "version_major": 2,
       "version_minor": 0
      },
      "text/plain": [
       "VBox(children=(HBox(children=(FloatSlider(value=0.1, description='Reflux Ratio:', max=2.0, readout_format='.1f…"
      ]
     },
     "metadata": {},
     "output_type": "display_data"
    }
   ],
   "source": [
    "\n",
    "def on_go2_button_click(b):\n",
    "    with out_2:\n",
    "        clear_output(wait=True)\n",
    "        plt.close('all')  # Close all open matplotlib plots\n",
    "        plot_rect_strip( R=R2_slider.value)\n",
    "        \n",
    "go2_button = widgets.Button(description='Generate Plot')\n",
    "go2_button.on_click(on_go2_button_click)\n",
    "\n",
    "layout = VBox([HBox([R2_slider, go2_button]), out_2])\n",
    "display(layout)"
   ]
  }
 ],
 "metadata": {
  "kernelspec": {
   "display_name": "base",
   "language": "python",
   "name": "python3"
  },
  "language_info": {
   "codemirror_mode": {
    "name": "ipython",
    "version": 3
   },
   "file_extension": ".py",
   "mimetype": "text/x-python",
   "name": "python",
   "nbconvert_exporter": "python",
   "pygments_lexer": "ipython3",
   "version": "3.8.8"
  },
  "orig_nbformat": 4
 },
 "nbformat": 4,
 "nbformat_minor": 2
}
