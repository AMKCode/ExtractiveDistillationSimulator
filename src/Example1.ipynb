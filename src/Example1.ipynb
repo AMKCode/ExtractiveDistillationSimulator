{
 "cells": [
  {
   "cell_type": "markdown",
   "metadata": {},
   "source": [
    "# Example 1: Separation of a Binary Mixture\n",
    "\n",
    "\n",
    "#### This example shows the distillation column for a mixture of Benzene (Light Key) and Toluene (Heavy Key)\n",
    "#### The rectifying and stripping operating lines of the column are affected by 3 parameters -- the reflux ratio, and the concentrations of the distillate and bottoms streams leaving from the top and bottom of the column, respectively.\n",
    "\n",
    "#### A simple Raoult's Law Model is used to produce the thermodynamic equilibrium data for this mixture.\n",
    "\n",
    "#### The Reflux Ratio must be greater than a minimum value for a feasible separation.  This demo will show that if the Reflux Ration is too low, the rectifying and stripping operating lines will not intersect beneath the Equilibrium Curve.\n",
    "\n"
   ]
  },
  {
   "cell_type": "code",
   "execution_count": 1,
   "metadata": {
    "tags": []
   },
   "outputs": [],
   "source": [
    "## IMPORT NECESSARY LIBRARIES ##\n",
    "import numpy as np\n",
    "import matplotlib.pyplot as plt\n",
    "import ipywidgets as widgets\n",
    "from IPython.display import display\n",
    "from thermo_models.RaoultsLawModel import *\n",
    "from distillation.DistillationModel import DistillationModel\n",
    "from distillation.DistillationBinary import DistillationModelBinary\n",
    "from utils.AntoineEquation import * \n",
    "from IPython.display import clear_output\n",
    "from tqdm import tqdm\n",
    "import ipywidgets as widgets\n",
    "from IPython.display import display\n",
    "from ipywidgets import interactive, Button, VBox, HBox, Output\n",
    "from IPython.display import clear_output\n",
    "import matplotlib.pyplot as plt\n"
   ]
  },
  {
   "cell_type": "markdown",
   "metadata": {},
   "source": [
    "###### System Parameters using Raoult's Law"
   ]
  },
  {
   "cell_type": "code",
   "execution_count": 2,
   "metadata": {},
   "outputs": [],
   "source": [
    "# Antoine Parameters for benzene\n",
    "Ben_A = 4.72583\n",
    "Ben_B = 1660.652\n",
    "Ben_C = -1.461\n",
    "\n",
    "# Antoine Parameters for toluene\n",
    "Tol_A = 4.07827\n",
    "Tol_B = 1343.943\n",
    "Tol_C = -53.773\n",
    "\n",
    "P_sys = 1.0325\n",
    "\n",
    "# Create Antoine equations for benzene and toluene\n",
    "benzene_antoine = AntoineEquationBase10(Ben_A, Ben_B, Ben_C)\n",
    "toluene_antoine = AntoineEquationBase10(Tol_A, Tol_B, Tol_C)\n",
    "\n",
    "# Create a Raoult's law object\n",
    "vle_model = RaoultsLawModel(2, P_sys, [\"Benzene\", \"Toluene\"], [benzene_antoine, toluene_antoine])\n"
   ]
  },
  {
   "cell_type": "code",
   "execution_count": 3,
   "metadata": {},
   "outputs": [],
   "source": [
    "# Define the sliders:\n",
    "xD1_slider = widgets.FloatSlider(value=0.95, min=0.5, max=0.999, step=0.0001, description='$x_D$:', readout_format='.2f')\n",
    "xB1_slider = widgets.FloatSlider(value=0.05, min=0.001, max=0.499, step=0.0001, description='$x_B$:', readout_format='.2f')\n",
    "R1_slider =  widgets.FloatLogSlider(value=1.0, base=10, min=-1, max=1, step=0.001,  description='Reflux Ratio:', readout_format='.1f')\n",
    "go_button = widgets.Button(description='Create Model', width='15%', margin='0 10px 0 0')\n",
    "\n",
    "def plot_distil_oplines_ex1(xD=xD1_slider.value, xB=xB1_slider.value, R=R1_slider.value):\n",
    "    plt.close('all')  # Ensure that any existing figures are closed before plotting a new one.\n",
    "    distillation_model = DistillationModelBinary(vle_model, xF = np.array([0.5, 0.5]), xD = np.array([xD, 1 - xD]), xB = np.array([xB, 1 - xB]), reflux = R)\n",
    "    fig, axs = plt.subplots(2, 3, figsize=(15, 5), gridspec_kw={'height_ratios': [40, 1]}, sharex='col')\n",
    "    distillation_model.plot_distil_strip_binary(axs[0][0], axs[1][0])\n",
    "    distillation_model.plot_distil_rect_binary(axs[0][1], axs[1][1])\n",
    "    distillation_model.plot_distil_binary(axs[0][2], axs[1][2])\n",
    "    plt.subplots_adjust(hspace=0)\n",
    "    plt.show()  # Ensure the plot is displayed in Jupyter.\n",
    "\n",
    "def plot_distil_stripping_ex1(xD=xD1_slider.value, xB=xB1_slider.value, R=R1_slider.value):\n",
    "    plt.close('all')  # Ensure that any existing figures are closed.\n",
    "    fig, axs = plt.subplots(2, 1, figsize=(7, 7), gridspec_kw={'height_ratios': [40, 1]}, sharex='col')\n",
    "    distillation_model = DistillationModelBinary(vle_model, xF=np.array([0.5, 0.5]), xD=np.array([xD, 1 - xD]), xB=np.array([xB, 1 - xB]), reflux=R)\n",
    "    distillation_model.plot_distil_strip_binary(ax=axs[0], ax_fixed=axs[1])\n",
    "    plt.subplots_adjust(hspace=0)\n",
    "    plt.show()  # This is essential for the plot to be displayed in the Output widget in Jupyter.\n",
    "\n",
    "def plot_distil_rectifying_ex1(xD=xD1_slider.value, xB=xB1_slider.value, R=R1_slider.value):\n",
    "    plt.close('all')  # Ensure that any existing figures are closed before plotting a new one.\n",
    "    distillation_model = DistillationModelBinary(vle_model, xF=np.array([0.5, 0.5]), xD=np.array([xD, 1 - xD]), xB=np.array([xB, 1 - xB]), reflux=R)\n",
    "    fig, axs = plt.subplots(2, 1, figsize=(7, 7), gridspec_kw={'height_ratios': [40, 1]}, sharex='col')\n",
    "    distillation_model.plot_distil_rect_binary(ax=axs[0], ax_fixed=axs[1])\n",
    "    plt.subplots_adjust(hspace=0)\n",
    "    plt.show()  # Ensure the plot is displayed in Jupyter.\n",
    "\n",
    "out_strip = Output()\n",
    "out_rect = Output()\n",
    "out_oplines = Output()"
   ]
  },
  {
   "cell_type": "markdown",
   "metadata": {},
   "source": [
    "### Demo 1: Stripping Line\n",
    "\n",
    "##### The Stripping Operating Line (green line) is defined by the set values for Reflux Ratio and Bottoms Composition.  \n",
    "##### An infinite number of stages are needed as the stripping line approaches the Equilibrium Curve (blue curve).  This results in a 'Fixed Point.'  The blue triangles on the x-axis show that despite infinitely many equilibrium stages, the concentration cannot move past this point.\n",
    "\n",
    "##### This graph also includes dashed gray lines, depicting the McCabe-Thiele graphical method for calculating the equilibrium stage compositions.\n",
    "\n",
    "#### Use the sliders to change the parameters and see how the Fixed Point responds."
   ]
  },
  {
   "cell_type": "code",
   "execution_count": 4,
   "metadata": {},
   "outputs": [
    {
     "data": {
      "application/vnd.jupyter.widget-view+json": {
       "model_id": "f731e904a2654304b9dbeac0abb94a12",
       "version_major": 2,
       "version_minor": 0
      },
      "text/plain": [
       "VBox(children=(HBox(children=(FloatSlider(value=0.05, description='$x_B$:', max=0.499, min=0.001, step=0.0001)…"
      ]
     },
     "metadata": {},
     "output_type": "display_data"
    }
   ],
   "source": [
    "# Create your interactive widget but don't display it\n",
    "strip_plot = interactive(plot_distil_stripping_ex1, xD=xD1_slider, xB=xB1_slider, R=R1_slider, continuous_update=False)\n",
    "\n",
    "# Define your button click behavior\n",
    "def on_go_button_click(b):\n",
    "    with out_strip:\n",
    "        clear_output(wait=True)\n",
    "        plt.close('all')  # Close all open matplotlib plots\n",
    "        plot_distil_stripping_ex1(xD=xD1_slider.value, xB=xB1_slider.value, R=R1_slider.value)\n",
    "\n",
    "go_button = Button(description='Generate Plot')\n",
    "go_button.on_click(on_go_button_click)\n",
    "\n",
    "layout = VBox([HBox([xB1_slider, R1_slider]), go_button, out_strip])\n",
    "display(layout)\n"
   ]
  },
  {
   "cell_type": "markdown",
   "metadata": {},
   "source": [
    "### Demo 2: Rectifying Line\n",
    "\n",
    "##### The Rectifying Operating Line (green line) is defined by the set values for Reflux Ratio and Distillate Composition:\n",
    "##### $y_{n+1} = [\\frac{R}{R+1}]x_n + \\frac{x_D}{R+1}$\n",
    "##### An infinite number of stages are needed as the rectifying line approaches the Equilibrium Curve (blue curve). This results in a 'Fixed Point.' The blue circles on the x-axis show that despite infinitely many equilibrium stages, the concentration cannot move past this point.\n",
    "\n",
    "##### This graph also includes dashed gray lines, depicting the McCabe-Thiele graphical method for calculating the equilibrium stage compositions.\n",
    "\n",
    "#### Use the sliders to change the parameters and see how the Fixed Point responds."
   ]
  },
  {
   "cell_type": "code",
   "execution_count": 5,
   "metadata": {},
   "outputs": [
    {
     "data": {
      "application/vnd.jupyter.widget-view+json": {
       "model_id": "5bdea4d1e27a4f9c9c43d6008304427f",
       "version_major": 2,
       "version_minor": 0
      },
      "text/plain": [
       "VBox(children=(HBox(children=(FloatSlider(value=0.95, description='$x_D$:', max=0.999, min=0.5, step=0.0001), …"
      ]
     },
     "metadata": {},
     "output_type": "display_data"
    }
   ],
   "source": [
    "# Create your interactive widget but don't display it\n",
    "rect_plot = interactive(plot_distil_rectifying_ex1, xD=xD1_slider, xB=xB1_slider, R=R1_slider, continuous_update=False)\n",
    "\n",
    "# Define your button click behavior\n",
    "def on_rect_button_click(b):\n",
    "    with out_rect:\n",
    "        clear_output(wait=True)\n",
    "        plt.close('all')  # Close all open matplotlib plots\n",
    "        plot_distil_rectifying_ex1(xD=xD1_slider.value, xB=xB1_slider.value, R=R1_slider.value)\n",
    "\n",
    "rect_button = Button(description='Generate Plot')\n",
    "rect_button.on_click(on_rect_button_click)\n",
    "\n",
    "layout = VBox([HBox([xD1_slider, R1_slider]), rect_button, out_rect])\n",
    "display(layout)"
   ]
  },
  {
   "cell_type": "markdown",
   "metadata": {},
   "source": [
    "### Demo 3: Full Column\n",
    "\n",
    "##### This demonstration shows the previous graphs, as well as a third graph on the right for the entire distillation column.  The color of the operating lines shows changes based on the set parameters.  Green operating lines indicate a feasible column.  Red operating lines, however mean the column is not feasible.  If this is the case, look for the fixed points on the graph.  The x-axis below will also show that the triangles for the stripping section and circles for the rectifying section do not overlap.\n",
    "#### Try changing the paramters to yield green operating lines.  Now look at the x-axis to see the overlap between rectifying and stripping sections.  How do the parameters affect the number of Equilibrium Stages?\n",
    "\n",
    "###### Note that not all of the symbols on the x-axis correspond to real stage equilibria in the column.\n",
    "\n",
    "\n"
   ]
  },
  {
   "cell_type": "code",
   "execution_count": 6,
   "metadata": {},
   "outputs": [
    {
     "data": {
      "application/vnd.jupyter.widget-view+json": {
       "model_id": "0b3a2c00e7444fdd9c943d5811bd44ef",
       "version_major": 2,
       "version_minor": 0
      },
      "text/plain": [
       "VBox(children=(HBox(children=(FloatSlider(value=0.95, description='$x_D$:', max=0.999, min=0.5, step=0.0001), …"
      ]
     },
     "metadata": {},
     "output_type": "display_data"
    }
   ],
   "source": [
    "# Create your interactive widget but don't display it\n",
    "oplines_plot = interactive(plot_distil_oplines_ex1, xD=xD1_slider, xB=xB1_slider, R=R1_slider, continuous_update=False)\n",
    "\n",
    "# Define your button click behavior\n",
    "def on_oplines_button_click(b):\n",
    "    with out_oplines:\n",
    "        clear_output(wait=True)\n",
    "        plt.close('all')  # Close all open matplotlib plots\n",
    "        plot_distil_oplines_ex1(xD=xD1_slider.value, xB=xB1_slider.value, R=R1_slider.value)\n",
    "\n",
    "oplines_button = Button(description='Generate Oplines Plot')\n",
    "oplines_button.on_click(on_oplines_button_click)\n",
    "\n",
    "layout_oplines = VBox([HBox(oplines_plot.children[:-1]), oplines_button, out_oplines])\n",
    "display(layout_oplines)\n"
   ]
  }
 ],
 "metadata": {
  "celltoolbar": "Tags",
  "kernelspec": {
   "display_name": "Python 3 (ipykernel)",
   "language": "python",
   "name": "python3"
  },
  "language_info": {
   "codemirror_mode": {
    "name": "ipython",
    "version": 3
   },
   "file_extension": ".py",
   "mimetype": "text/x-python",
   "name": "python",
   "nbconvert_exporter": "python",
   "pygments_lexer": "ipython3",
   "version": "3.8.8"
  }
 },
 "nbformat": 4,
 "nbformat_minor": 4
}
