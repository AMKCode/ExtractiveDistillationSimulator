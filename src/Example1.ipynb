{
 "cells": [
  {
   "cell_type": "code",
   "execution_count": 1,
   "metadata": {
    "tags": []
   },
   "outputs": [],
   "source": [
    "import numpy as np\n",
    "import matplotlib.pyplot as plt\n",
    "import ipywidgets as widgets\n",
    "from IPython.display import display\n",
    "from thermo_models.RaoultsLawModel import *\n",
    "from distillation.DistillationModel import DistillationModel\n",
    "from utils.AntoineEquation import * \n",
    "from IPython.display import clear_output\n",
    "from tqdm import tqdm\n",
    "import ipywidgets as widgets\n",
    "from IPython.display import display\n",
    "\n",
    "# Antoine Parameters for benzene\n",
    "Ben_A = 4.72583\n",
    "Ben_B = 1660.652\n",
    "Ben_C = -1.461\n",
    "\n",
    "# Antoine Parameters for toluene\n",
    "Tol_A = 4.07827\n",
    "Tol_B = 1343.943\n",
    "Tol_C = -53.773\n",
    "\n",
    "P_sys = 1.0325\n",
    "# Create Antoine equations for benzene and toluene\n",
    "benzene_antoine = AntoineEquationBase10(Ben_A, Ben_B, Ben_C)\n",
    "toluene_antoine = AntoineEquationBase10(Tol_A, Tol_B, Tol_C)\n",
    "\n",
    "# Create a Raoult's law object\n",
    "vle_model = RaoultsLawModel(2, P_sys, [benzene_antoine, toluene_antoine])\n",
    "\n",
    "# Define the sliders:\n",
    "xD1_slider = widgets.FloatSlider(value=0.95, min=0.5, max=0.999, step=0.0001, description='$x_D$:', readout_format='.2f')\n",
    "xB1_slider = widgets.FloatSlider(value=0.05, min=0.001, max=0.499, step=0.0001, description='$x_B$:', readout_format='.2f')\n",
    "R1_slider =  widgets.FloatLogSlider(value=1.0, base=10, min=0, max=2, step=0.001,  description='Reflux Ratio:', readout_format='.1f')\n",
    "\n",
    "def plot_distil_oplines_ex1(xD=xD1_slider.value, xB=xB1_slider.value, R=R1_slider.value):\n",
    "    distillation_model = DistillationModel(vle_model, xF = np.array([0.5, 0.5]), xD = np.array([xD, 1 - xD]), xB = np.array([xB, 1 - xB]), reflux = R)\n",
    "    fig, axs = plt.subplots(2, 3, figsize=(15, 5), gridspec_kw={'height_ratios': [40, 1]}, sharex='col')\n",
    "    distillation_model.plot_distil_strip_binary(axs[0][0], axs[1][0])\n",
    "    distillation_model.plot_distil_rect_binary(axs[0][1], axs[1][1])\n",
    "    distillation_model.plot_distil_binary(axs[0][2], axs[1][2])\n",
    "    plt.subplots_adjust(hspace=0)\n",
    "\n",
    "def plot_distil_stripping_ex1(xD=xD1_slider.value, xB=xB1_slider.value, R=R1_slider.value):\n",
    "    distillation_model = DistillationModel(vle_model, xF = np.array([0.5, 0.5]), xD = np.array([xD, 1 - xD]), xB = np.array([xB, 1 - xB]), reflux = R)\n",
    "    fig, axs = plt.subplots(2, 1,figsize=(7, 7), gridspec_kw={'height_ratios': [40, 1]}, sharex='col')\n",
    "    distillation_model.plot_distil_strip_binary(ax = axs[0], ax_fixed=axs[1])\n",
    "    plt.subplots_adjust(hspace=0)\n",
    "    \n",
    "def plot_distil_rectifying_ex1(xD=xD1_slider.value, xB=xB1_slider.value, R=R1_slider.value):\n",
    "    distillation_model = DistillationModel(vle_model, xF = np.array([0.5, 0.5]), xD = np.array([xD, 1 - xD]), xB = np.array([xB, 1 - xB]), reflux = R)\n",
    "    fig, axs = plt.subplots(2, 1,figsize=(7, 7), gridspec_kw={'height_ratios': [40, 1]}, sharex='col')\n",
    "    distillation_model.plot_distil_rect_binary(ax = axs[0], ax_fixed = axs[1])\n",
    "    plt.subplots_adjust(hspace=0)\n",
    "\n",
    "# Define the sliders:\n",
    "xD2_slider = widgets.FloatSlider(value=0.95, min=0.5, max=0.999, step=0.0001, description='$x_D$:', readout_format='.2f')\n",
    "xB2_slider = widgets.FloatSlider(value=0.05, min=0.001, max=0.499, step=0.0001, description='$x_B$:', readout_format='.2f')\n",
    "r_max_slider = widgets.FloatSlider(value=1.0, min=0, max=100, step=1, description='R max:', readout_format='.1f')\n",
    "\n",
    "def plot_r_vs_fixedpoints_ex_1(r_max = r_max_slider.value, xD=xD2_slider.value, xB=xB2_slider.value):\n",
    "    clear_output(wait=True)\n",
    "    display(\"Calculating... Please wait.\")\n",
    "    r_values = np.linspace(0.001, r_max, 100)\n",
    "    x_fixed_r_arr = []\n",
    "    x_fixed_s_arr = []\n",
    "\n",
    "    for r in tqdm(r_values, desc=\"Progress\"):\n",
    "        distillation_model = DistillationModel(vle_model, xF=np.array([0.5, 0.5]), xD=np.array([xD, 1 - xD]), xB=np.array([xB, 1 - xB]), reflux=r)\n",
    "        x_fixed_r, _ = distillation_model.find_rect_fixedpoints_binary(100)\n",
    "        x_fixed_s, _ = distillation_model.find_strip_fixedpoints_binary(100)\n",
    "        x_fixed_r_arr.append(x_fixed_r)\n",
    "        x_fixed_s_arr.append(x_fixed_s)\n",
    "\n",
    "    # flatten the lists and repeat the r_values according to the number of x values\n",
    "    r_values_r = np.repeat(r_values, [len(x) for x in x_fixed_r_arr])\n",
    "    r_values_s = np.repeat(r_values, [len(x) for x in x_fixed_s_arr])\n",
    "    x_fixed_r_arr = np.hstack(x_fixed_r_arr)\n",
    "    x_fixed_s_arr = np.hstack(x_fixed_s_arr)\n",
    "\n",
    "    plt.scatter(r_values_r, x_fixed_r_arr,marker = 'x')\n",
    "    plt.scatter(r_values_s, x_fixed_s_arr, marker ='x')\n",
    "    plt.xlabel(\"Reflux Ratio\")\n",
    "    plt.ylabel(\"x\")\n",
    "    plt.show()\n",
    "    "
   ]
  },
  {
   "cell_type": "code",
   "execution_count": 2,
   "metadata": {},
   "outputs": [
    {
     "data": {
      "application/vnd.jupyter.widget-view+json": {
       "model_id": "02699aaac40c4b508a0f8659a4e14364",
       "version_major": 2,
       "version_minor": 0
      },
      "text/plain": [
       "interactive(children=(FloatSlider(value=0.95, description='$x_D$:', max=0.999, min=0.5, step=0.0001), FloatSli…"
      ]
     },
     "metadata": {},
     "output_type": "display_data"
    }
   ],
   "source": [
    "# Create the interactive widget:\n",
    "strip_plot = widgets.interactive(plot_distil_stripping_ex1, xD = xD1_slider, xB = xB1_slider, R = R1_slider)\n",
    "\n",
    "display(strip_plot)"
   ]
  },
  {
   "cell_type": "code",
   "execution_count": 3,
   "metadata": {},
   "outputs": [
    {
     "data": {
      "application/vnd.jupyter.widget-view+json": {
       "model_id": "c7a8ef54bdbf472087a0e4cbca42a40a",
       "version_major": 2,
       "version_minor": 0
      },
      "text/plain": [
       "interactive(children=(FloatSlider(value=0.95, description='$x_D$:', max=0.999, min=0.5, step=0.0001), FloatSli…"
      ]
     },
     "metadata": {},
     "output_type": "display_data"
    }
   ],
   "source": [
    "# Create the interactive widget:\n",
    "rect_plot = widgets.interactive(plot_distil_rectifying_ex1, xD = xD1_slider, xB = xB1_slider, R = R1_slider)\n",
    "\n",
    "display(rect_plot)"
   ]
  },
  {
   "cell_type": "code",
   "execution_count": 4,
   "metadata": {},
   "outputs": [
    {
     "data": {
      "application/vnd.jupyter.widget-view+json": {
       "model_id": "fa6132d5e098444684a8193b665a93ed",
       "version_major": 2,
       "version_minor": 0
      },
      "text/plain": [
       "interactive(children=(FloatSlider(value=0.95, description='$x_D$:', max=0.999, min=0.5, step=0.0001), FloatSli…"
      ]
     },
     "metadata": {},
     "output_type": "display_data"
    }
   ],
   "source": [
    "# Create the interactive widget:\n",
    "interactive_plot = widgets.interactive(plot_distil_oplines_ex1, xD = xD1_slider, xB = xB1_slider, R = R1_slider)\n",
    "\n",
    "# Display the interactive widget:\n",
    "display(interactive_plot)"
   ]
  },
  {
   "cell_type": "code",
   "execution_count": 5,
   "metadata": {},
   "outputs": [],
   "source": [
    "# Create the interactive widget:\n",
    "# fixed_points_reflux = widgets.interactive(plot_r_vs_fixedpoints_ex_1, xD=xD2_slider, xB=xB2_slider, r_max = r_max_slider) \n",
    "\n",
    "# Display the interactive widget:\n",
    "# display(fixed_points_reflux)"
   ]
  }
 ],
 "metadata": {
  "celltoolbar": "Tags",
  "kernelspec": {
   "display_name": "Python 3 (ipykernel)",
   "language": "python",
   "name": "python3"
  },
  "language_info": {
   "codemirror_mode": {
    "name": "ipython",
    "version": 3
   },
   "file_extension": ".py",
   "mimetype": "text/x-python",
   "name": "python",
   "nbconvert_exporter": "python",
   "pygments_lexer": "ipython3",
   "version": "3.8.8"
  }
 },
 "nbformat": 4,
 "nbformat_minor": 4
}
