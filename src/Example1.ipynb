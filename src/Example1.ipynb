{
 "cells": [
  {
   "cell_type": "markdown",
   "metadata": {},
   "source": [
    "# Example 1: Separation of a Binary Mixture\n",
    "\n",
    "#### Plot the Operating Lines and Equilibrium Curve for a Benzene/Toluene Mixture.\n",
    "#### The Reflux Ratio must be greater than a minimum value for a feasible separation.\n",
    "\n"
   ]
  },
  {
   "cell_type": "code",
   "execution_count": 1,
   "metadata": {
    "tags": []
   },
   "outputs": [],
   "source": [
    "## IMPORT NECESSARY LIBRARIES ##\n",
    "import numpy as np\n",
    "import matplotlib.pyplot as plt\n",
    "import ipywidgets as widgets\n",
    "from IPython.display import display\n",
    "from thermo_models.RaoultsLawModel import *\n",
    "from distillation.DistillationModel import DistillationModel\n",
    "from distillation.DistillationBinary import DistillationModelBinary\n",
    "from utils.AntoineEquation import * \n",
    "from IPython.display import clear_output\n",
    "from tqdm import tqdm\n",
    "import ipywidgets as widgets\n",
    "from IPython.display import display\n",
    "from ipywidgets import interactive, Button, VBox, HBox, Output\n",
    "from IPython.display import clear_output\n",
    "import matplotlib.pyplot as plt\n"
   ]
  },
  {
   "cell_type": "markdown",
   "metadata": {},
   "source": [
    "###### System Parameters using Raoult's Law"
   ]
  },
  {
   "cell_type": "code",
   "execution_count": 2,
   "metadata": {},
   "outputs": [],
   "source": [
    "# Antoine Parameters for benzene\n",
    "Ben_A = 4.72583\n",
    "Ben_B = 1660.652\n",
    "Ben_C = -1.461\n",
    "\n",
    "# Antoine Parameters for toluene\n",
    "Tol_A = 4.07827\n",
    "Tol_B = 1343.943\n",
    "Tol_C = -53.773\n",
    "\n",
    "P_sys = 1.0325\n",
    "\n",
    "# Create Antoine equations for benzene and toluene\n",
    "benzene_antoine = AntoineEquationBase10(Ben_A, Ben_B, Ben_C)\n",
    "toluene_antoine = AntoineEquationBase10(Tol_A, Tol_B, Tol_C)\n",
    "\n",
    "# Create a Raoult's law object\n",
    "vle_model = RaoultsLawModel(2, P_sys, [\"Benzene\", \"Toluene\"], [benzene_antoine, toluene_antoine])\n"
   ]
  },
  {
   "cell_type": "code",
   "execution_count": 3,
   "metadata": {},
   "outputs": [],
   "source": [
    "# Define the sliders:\n",
    "xD1_slider = widgets.FloatSlider(value=0.95, min=0.5, max=0.999, step=0.0001, description='$x_D$:', readout_format='.2f')\n",
    "xB1_slider = widgets.FloatSlider(value=0.05, min=0.001, max=0.499, step=0.0001, description='$x_B$:', readout_format='.2f')\n",
    "R1_slider =  widgets.FloatLogSlider(value=1.0, base=10, min=-1, max=1, step=0.001,  description='Reflux Ratio:', readout_format='.1f')\n",
    "go_button = widgets.Button(description='Create Model', width='15%', margin='0 10px 0 0')\n",
    "\n",
    "def plot_distil_oplines_ex1(xD=xD1_slider.value, xB=xB1_slider.value, R=R1_slider.value):\n",
    "    plt.close('all')  # Ensure that any existing figures are closed before plotting a new one.\n",
    "    distillation_model = DistillationModelBinary(vle_model, xF = np.array([0.5, 0.5]), xD = np.array([xD, 1 - xD]), xB = np.array([xB, 1 - xB]), reflux = R)\n",
    "    fig, axs = plt.subplots(2, 3, figsize=(15, 5), gridspec_kw={'height_ratios': [40, 1]}, sharex='col')\n",
    "    distillation_model.plot_distil_strip_binary(axs[0][0], axs[1][0])\n",
    "    distillation_model.plot_distil_rect_binary(axs[0][1], axs[1][1])\n",
    "    distillation_model.plot_distil_binary(axs[0][2], axs[1][2])\n",
    "    plt.subplots_adjust(hspace=0)\n",
    "    plt.show()  # Ensure the plot is displayed in Jupyter.\n",
    "\n",
    "def plot_distil_stripping_ex1(xD=xD1_slider.value, xB=xB1_slider.value, R=R1_slider.value):\n",
    "    plt.close('all')  # Ensure that any existing figures are closed.\n",
    "    fig, axs = plt.subplots(2, 1, figsize=(7, 7), gridspec_kw={'height_ratios': [40, 1]}, sharex='col')\n",
    "    distillation_model = DistillationModelBinary(vle_model, xF=np.array([0.5, 0.5]), xD=np.array([xD, 1 - xD]), xB=np.array([xB, 1 - xB]), reflux=R)\n",
    "    distillation_model.plot_distil_strip_binary(ax=axs[0], ax_fixed=axs[1])\n",
    "    plt.subplots_adjust(hspace=0)\n",
    "    plt.show()  # This is essential for the plot to be displayed in the Output widget in Jupyter.\n",
    "\n",
    "def plot_distil_rectifying_ex1(xD=xD1_slider.value, xB=xB1_slider.value, R=R1_slider.value):\n",
    "    plt.close('all')  # Ensure that any existing figures are closed before plotting a new one.\n",
    "    distillation_model = DistillationModelBinary(vle_model, xF=np.array([0.5, 0.5]), xD=np.array([xD, 1 - xD]), xB=np.array([xB, 1 - xB]), reflux=R)\n",
    "    fig, axs = plt.subplots(2, 1, figsize=(7, 7), gridspec_kw={'height_ratios': [40, 1]}, sharex='col')\n",
    "    distillation_model.plot_distil_rect_binary(ax=axs[0], ax_fixed=axs[1])\n",
    "    plt.subplots_adjust(hspace=0)\n",
    "    plt.show()  # Ensure the plot is displayed in Jupyter.\n",
    "\n",
    "out_strip = Output()\n",
    "out_rect = Output()\n",
    "out_oplines = Output()"
   ]
  },
  {
   "cell_type": "markdown",
   "metadata": {},
   "source": [
    "### Demo 1: Stripping Line\n",
    "##### An infinite number of stages are needed as the stripping line approaches the fixed point on the Equilibrium Curve."
   ]
  },
  {
   "cell_type": "code",
   "execution_count": 4,
   "metadata": {},
   "outputs": [
    {
     "data": {
      "application/vnd.jupyter.widget-view+json": {
       "model_id": "f87dba7f87624f86b1c5cecbb73f8ae0",
       "version_major": 2,
       "version_minor": 0
      },
      "text/plain": [
       "VBox(children=(HBox(children=(FloatSlider(value=0.95, description='$x_D$:', max=0.999, min=0.5, step=0.0001), …"
      ]
     },
     "metadata": {},
     "output_type": "display_data"
    }
   ],
   "source": [
    "# Create your interactive widget but don't display it\n",
    "strip_plot = interactive(plot_distil_stripping_ex1, xD=xD1_slider, xB=xB1_slider, R=R1_slider, continuous_update=False)\n",
    "\n",
    "# Define your button click behavior\n",
    "def on_go_button_click(b):\n",
    "    with out_strip:\n",
    "        clear_output(wait=True)\n",
    "        plt.close('all')  # Close all open matplotlib plots\n",
    "        plot_distil_stripping_ex1(xD=xD1_slider.value, xB=xB1_slider.value, R=R1_slider.value)\n",
    "\n",
    "go_button = Button(description='Generate Plot')\n",
    "go_button.on_click(on_go_button_click)\n",
    "\n",
    "layout = VBox([HBox(strip_plot.children[:-1]), go_button, out_strip])\n",
    "display(layout)\n"
   ]
  },
  {
   "cell_type": "markdown",
   "metadata": {},
   "source": [
    "### Demo 2: Rectifying Line\n",
    "##### An infinite number of stages are needed as the rectifying line approaches the fixed point on the Equilibrium Curve."
   ]
  },
  {
   "cell_type": "code",
   "execution_count": 5,
   "metadata": {},
   "outputs": [
    {
     "data": {
      "application/vnd.jupyter.widget-view+json": {
       "model_id": "85f9aee62ef0419f8f84a144a6bf2b63",
       "version_major": 2,
       "version_minor": 0
      },
      "text/plain": [
       "VBox(children=(HBox(children=(FloatSlider(value=0.95, description='$x_D$:', max=0.999, min=0.5, step=0.0001), …"
      ]
     },
     "metadata": {},
     "output_type": "display_data"
    }
   ],
   "source": [
    "# Create your interactive widget but don't display it\n",
    "rect_plot = interactive(plot_distil_rectifying_ex1, xD=xD1_slider, xB=xB1_slider, R=R1_slider, continuous_update=False)\n",
    "\n",
    "# Define your button click behavior\n",
    "def on_rect_button_click(b):\n",
    "    with out_rect:\n",
    "        clear_output(wait=True)\n",
    "        plt.close('all')  # Close all open matplotlib plots\n",
    "        plot_distil_rectifying_ex1(xD=xD1_slider.value, xB=xB1_slider.value, R=R1_slider.value)\n",
    "\n",
    "rect_button = Button(description='Generate Plot')\n",
    "rect_button.on_click(on_rect_button_click)\n",
    "\n",
    "layout = VBox([HBox(rect_plot.children[:-1]), rect_button, out_rect])\n",
    "display(layout)"
   ]
  },
  {
   "cell_type": "markdown",
   "metadata": {},
   "source": [
    "### Demo 3: Full Column\n",
    "##### The graph on the right shows both operating lines.  The lines are green when the column parameters are feasible and red when unfeasible.\n",
    "\n",
    "###### Hollow blue markers + make irrelevant segments on op lines lighter/transparent"
   ]
  },
  {
   "cell_type": "code",
   "execution_count": 6,
   "metadata": {},
   "outputs": [
    {
     "data": {
      "application/vnd.jupyter.widget-view+json": {
       "model_id": "35f4aa20fa4e42d886d51801aae1d125",
       "version_major": 2,
       "version_minor": 0
      },
      "text/plain": [
       "VBox(children=(HBox(children=(FloatSlider(value=0.95, description='$x_D$:', max=0.999, min=0.5, step=0.0001), …"
      ]
     },
     "metadata": {},
     "output_type": "display_data"
    }
   ],
   "source": [
    "# Create your interactive widget but don't display it\n",
    "oplines_plot = interactive(plot_distil_oplines_ex1, xD=xD1_slider, xB=xB1_slider, R=R1_slider, continuous_update=False)\n",
    "\n",
    "# Define your button click behavior\n",
    "def on_oplines_button_click(b):\n",
    "    with out_oplines:\n",
    "        clear_output(wait=True)\n",
    "        plt.close('all')  # Close all open matplotlib plots\n",
    "        plot_distil_oplines_ex1(xD=xD1_slider.value, xB=xB1_slider.value, R=R1_slider.value)\n",
    "\n",
    "oplines_button = Button(description='Generate Oplines Plot')\n",
    "oplines_button.on_click(on_oplines_button_click)\n",
    "\n",
    "layout_oplines = VBox([HBox(oplines_plot.children[:-1]), oplines_button, out_oplines])\n",
    "display(layout_oplines)\n"
   ]
  }
 ],
 "metadata": {
  "celltoolbar": "Tags",
  "kernelspec": {
   "display_name": "Python 3 (ipykernel)",
   "language": "python",
   "name": "python3"
  },
  "language_info": {
   "codemirror_mode": {
    "name": "ipython",
    "version": 3
   },
   "file_extension": ".py",
   "mimetype": "text/x-python",
   "name": "python",
   "nbconvert_exporter": "python",
   "pygments_lexer": "ipython3",
   "version": "3.8.5"
  }
 },
 "nbformat": 4,
 "nbformat_minor": 4
}
