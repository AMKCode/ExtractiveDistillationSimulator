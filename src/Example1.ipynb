{
 "cells": [
  {
   "cell_type": "code",
   "execution_count": 1,
   "metadata": {
    "tags": []
   },
   "outputs": [],
   "source": [
    "import numpy as np\n",
    "import matplotlib.pyplot as plt\n",
    "import ipywidgets as widgets\n",
    "from IPython.display import display\n",
    "from thermo_models.RaoultsLawModel import *\n",
    "from distillation.DistillationModel import DistillationModel\n",
    "from utils.AntoineEquation import * \n",
    "from IPython.display import clear_output\n",
    "from tqdm import tqdm\n",
    "import ipywidgets as widgets\n",
    "from IPython.display import display\n",
    "from ipywidgets import interactive, Button, VBox, HBox, Output\n",
    "from IPython.display import clear_output\n",
    "import matplotlib.pyplot as plt\n",
    "\n",
    "\n",
    "# Antoine Parameters for benzene\n",
    "Ben_A = 4.72583\n",
    "Ben_B = 1660.652\n",
    "Ben_C = -1.461\n",
    "\n",
    "# Antoine Parameters for toluene\n",
    "Tol_A = 4.07827\n",
    "Tol_B = 1343.943\n",
    "Tol_C = -53.773\n",
    "\n",
    "P_sys = 1.0325\n",
    "# Create Antoine equations for benzene and toluene\n",
    "benzene_antoine = AntoineEquationBase10(Ben_A, Ben_B, Ben_C)\n",
    "toluene_antoine = AntoineEquationBase10(Tol_A, Tol_B, Tol_C)\n",
    "\n",
    "# Create a Raoult's law object\n",
    "vle_model = RaoultsLawModel(2, P_sys, [benzene_antoine, toluene_antoine])\n",
    "\n",
    "# Define the sliders:\n",
    "xD1_slider = widgets.FloatSlider(value=0.95, min=0.5, max=0.999, step=0.0001, description='$x_D$:', readout_format='.2f')\n",
    "xB1_slider = widgets.FloatSlider(value=0.05, min=0.001, max=0.499, step=0.0001, description='$x_B$:', readout_format='.2f')\n",
    "R1_slider =  widgets.FloatLogSlider(value=1.0, base=10, min=0, max=2, step=0.001,  description='Reflux Ratio:', readout_format='.1f')\n",
    "go_button = widgets.Button(description='Create Model', width='15%', margin='0 10px 0 0')\n",
    "\n",
    "def plot_distil_oplines_ex1(xD=xD1_slider.value, xB=xB1_slider.value, R=R1_slider.value):\n",
    "    plt.close('all')  # Ensure that any existing figures are closed before plotting a new one.\n",
    "    distillation_model = DistillationModel(vle_model, xF = np.array([0.5, 0.5]), xD = np.array([xD, 1 - xD]), xB = np.array([xB, 1 - xB]), reflux = R)\n",
    "    fig, axs = plt.subplots(2, 3, figsize=(15, 5), gridspec_kw={'height_ratios': [40, 1]}, sharex='col')\n",
    "    distillation_model.plot_distil_strip_binary(axs[0][0], axs[1][0])\n",
    "    distillation_model.plot_distil_rect_binary(axs[0][1], axs[1][1])\n",
    "    distillation_model.plot_distil_binary(axs[0][2], axs[1][2])\n",
    "    plt.subplots_adjust(hspace=0)\n",
    "    plt.show()  # Ensure the plot is displayed in Jupyter.\n",
    "\n",
    "\n",
    "def plot_distil_stripping_ex1(xD=xD1_slider.value, xB=xB1_slider.value, R=R1_slider.value):\n",
    "    plt.close('all')  # Ensure that any existing figures are closed.\n",
    "    fig, axs = plt.subplots(2, 1, figsize=(7, 7), gridspec_kw={'height_ratios': [40, 1]}, sharex='col')\n",
    "    distillation_model = DistillationModel(vle_model, xF=np.array([0.5, 0.5]), xD=np.array([xD, 1 - xD]), xB=np.array([xB, 1 - xB]), reflux=R)\n",
    "    distillation_model.plot_distil_strip_binary(ax=axs[0], ax_fixed=axs[1])\n",
    "    plt.subplots_adjust(hspace=0)\n",
    "    plt.show()  # This is essential for the plot to be displayed in the Output widget in Jupyter.\n",
    "\n",
    "def plot_distil_rectifying_ex1(xD=xD1_slider.value, xB=xB1_slider.value, R=R1_slider.value):\n",
    "    plt.close('all')  # Ensure that any existing figures are closed before plotting a new one.\n",
    "    distillation_model = DistillationModel(vle_model, xF=np.array([0.5, 0.5]), xD=np.array([xD, 1 - xD]), xB=np.array([xB, 1 - xB]), reflux=R)\n",
    "    fig, axs = plt.subplots(2, 1, figsize=(7, 7), gridspec_kw={'height_ratios': [40, 1]}, sharex='col')\n",
    "    distillation_model.plot_distil_rect_binary(ax=axs[0], ax_fixed=axs[1])\n",
    "    plt.subplots_adjust(hspace=0)\n",
    "    plt.show()  # Ensure the plot is displayed in Jupyter.\n",
    "\n",
    "out_strip = Output()\n",
    "out_rect = Output()\n",
    "out_oplines = Output()\n",
    "\n",
    "# Define the sliders:\n",
    "xD2_slider = widgets.FloatSlider(value=0.95, min=0.5, max=0.999, step=0.0001, description='$x_D$:', readout_format='.2f')\n",
    "xB2_slider = widgets.FloatSlider(value=0.05, min=0.001, max=0.499, step=0.0001, description='$x_B$:', readout_format='.2f')\n",
    "r_max_slider = widgets.FloatSlider(value=1.0, min=0, max=100, step=1, description='R max:', readout_format='.1f')\n",
    "\n",
    "def plot_r_vs_fixedpoints_ex_1(r_max = r_max_slider.value, xD=xD2_slider.value, xB=xB2_slider.value):\n",
    "    clear_output(wait=True)\n",
    "    display(\"Calculating... Please wait.\")\n",
    "    r_values = np.linspace(0.001, r_max, 100)\n",
    "    x_fixed_r_arr = []\n",
    "    x_fixed_s_arr = []\n",
    "\n",
    "    for r in tqdm(r_values, desc=\"Progress\"):\n",
    "        distillation_model = DistillationModel(vle_model, xF=np.array([0.5, 0.5]), xD=np.array([xD, 1 - xD]), xB=np.array([xB, 1 - xB]), reflux=r)\n",
    "        x_fixed_r, _ = distillation_model.find_rect_fixedpoints_binary(100)\n",
    "        x_fixed_s, _ = distillation_model.find_strip_fixedpoints_binary(100)\n",
    "        x_fixed_r_arr.append(x_fixed_r)\n",
    "        x_fixed_s_arr.append(x_fixed_s)\n",
    "\n",
    "    # flatten the lists and repeat the r_values according to the number of x values\n",
    "    r_values_r = np.repeat(r_values, [len(x) for x in x_fixed_r_arr])\n",
    "    r_values_s = np.repeat(r_values, [len(x) for x in x_fixed_s_arr])\n",
    "    x_fixed_r_arr = np.hstack(x_fixed_r_arr)\n",
    "    x_fixed_s_arr = np.hstack(x_fixed_s_arr)\n",
    "\n",
    "    plt.scatter(r_values_r, x_fixed_r_arr,marker = 'x')\n",
    "    plt.scatter(r_values_s, x_fixed_s_arr, marker ='x')\n",
    "    plt.xlabel(\"Reflux Ratio\")\n",
    "    plt.ylabel(\"x\")\n",
    "    plt.show()\n",
    "    "
   ]
  },
  {
   "cell_type": "code",
   "execution_count": 2,
   "metadata": {},
   "outputs": [
    {
     "data": {
      "application/vnd.jupyter.widget-view+json": {
       "model_id": "b1858a616e5d4e43bd6c9c709ab4c77a",
       "version_major": 2,
       "version_minor": 0
      },
      "text/plain": [
       "VBox(children=(HBox(children=(FloatSlider(value=0.95, description='$x_D$:', max=0.999, min=0.5, step=0.0001), …"
      ]
     },
     "metadata": {},
     "output_type": "display_data"
    }
   ],
   "source": [
    "# Create your interactive widget but don't display it\n",
    "strip_plot = interactive(plot_distil_stripping_ex1, xD=xD1_slider, xB=xB1_slider, R=R1_slider, continuous_update=False)\n",
    "\n",
    "# Define your button click behavior\n",
    "def on_go_button_click(b):\n",
    "    with out_strip:\n",
    "        clear_output(wait=True)\n",
    "        plt.close('all')  # Close all open matplotlib plots\n",
    "        plot_distil_stripping_ex1(xD=xD1_slider.value, xB=xB1_slider.value, R=R1_slider.value)\n",
    "\n",
    "go_button = Button(description='Generate Plot')\n",
    "go_button.on_click(on_go_button_click)\n",
    "\n",
    "layout = VBox([HBox(strip_plot.children[:-1]), go_button, out_strip])\n",
    "display(layout)\n",
    "\n",
    "\n"
   ]
  },
  {
   "cell_type": "code",
   "execution_count": 3,
   "metadata": {},
   "outputs": [
    {
     "data": {
      "application/vnd.jupyter.widget-view+json": {
       "model_id": "f415983e10dc4477b7f8c6028b9f6586",
       "version_major": 2,
       "version_minor": 0
      },
      "text/plain": [
       "VBox(children=(HBox(children=(FloatSlider(value=0.95, description='$x_D$:', max=0.999, min=0.5, step=0.0001), …"
      ]
     },
     "metadata": {},
     "output_type": "display_data"
    },
    {
     "data": {
      "image/png": "[encoded data removed]",
      "text/plain": [
       "<Figure size 504x504 with 2 Axes>"
      ]
     },
     "metadata": {
      "needs_background": "light"
     },
     "output_type": "display_data"
    }
   ],
   "source": [
    "# Create your interactive widget but don't display it\n",
    "rect_plot = interactive(plot_distil_rectifying_ex1, xD=xD1_slider, xB=xB1_slider, R=R1_slider, continuous_update=False)\n",
    "\n",
    "# Define your button click behavior\n",
    "def on_rect_button_click(b):\n",
    "    with out_rect:\n",
    "        clear_output(wait=True)\n",
    "        plt.close('all')  # Close all open matplotlib plots\n",
    "        plot_distil_rectifying_ex1(xD=xD1_slider.value, xB=xB1_slider.value, R=R1_slider.value)\n",
    "\n",
    "rect_button = Button(description='Generate Plot')\n",
    "rect_button.on_click(on_rect_button_click)\n",
    "\n",
    "layout = VBox([HBox(rect_plot.children[:-1]), rect_button, out_rect])\n",
    "display(layout)"
   ]
  },
  {
   "cell_type": "code",
   "execution_count": 4,
   "metadata": {},
   "outputs": [
    {
     "data": {
      "application/vnd.jupyter.widget-view+json": {
       "model_id": "4de57cb53d814576a03f0f37309283dc",
       "version_major": 2,
       "version_minor": 0
      },
      "text/plain": [
       "VBox(children=(HBox(children=(FloatSlider(value=0.95, description='$x_D$:', max=0.999, min=0.5, step=0.0001), …"
      ]
     },
     "metadata": {},
     "output_type": "display_data"
    }
   ],
   "source": [
    "# Create your interactive widget but don't display it\n",
    "oplines_plot = interactive(plot_distil_oplines_ex1, xD=xD1_slider, xB=xB1_slider, R=R1_slider, continuous_update=False)\n",
    "\n",
    "# Define your button click behavior\n",
    "def on_oplines_button_click(b):\n",
    "    with out_oplines:\n",
    "        clear_output(wait=True)\n",
    "        plt.close('all')  # Close all open matplotlib plots\n",
    "        plot_distil_oplines_ex1(xD=xD1_slider.value, xB=xB1_slider.value, R=R1_slider.value)\n",
    "\n",
    "oplines_button = Button(description='Generate Oplines Plot')\n",
    "oplines_button.on_click(on_oplines_button_click)\n",
    "\n",
    "layout_oplines = VBox([HBox(oplines_plot.children[:-1]), oplines_button, out_oplines])\n",
    "display(layout_oplines)\n"
   ]
  },
  {
   "cell_type": "code",
   "execution_count": 5,
   "metadata": {},
   "outputs": [],
   "source": [
    "# Create the interactive widget:\n",
    "# fixed_points_reflux = widgets.interactive(plot_r_vs_fixedpoints_ex_1, xD=xD2_slider, xB=xB2_slider, r_max = r_max_slider) \n",
    "\n",
    "# Display the interactive widget:\n",
    "# display(fixed_points_reflux)"
   ]
  }
 ],
 "metadata": {
  "celltoolbar": "Tags",
  "kernelspec": {
   "display_name": "Python 3 (ipykernel)",
   "language": "python",
   "name": "python3"
  },
  "language_info": {
   "codemirror_mode": {
    "name": "ipython",
    "version": 3
   },
   "file_extension": ".py",
   "mimetype": "text/x-python",
   "name": "python",
   "nbconvert_exporter": "python",
   "pygments_lexer": "ipython3",
   "version": "3.8.5"
  }
 },
 "nbformat": 4,
 "nbformat_minor": 4
}
