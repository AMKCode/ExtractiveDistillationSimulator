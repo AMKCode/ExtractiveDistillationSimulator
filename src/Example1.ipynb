{
 "cells": [
  {
   "cell_type": "code",
   "execution_count": 1,
   "metadata": {
    "tags": []
   },
   "outputs": [],
   "source": [
    "import numpy as np\n",
    "import matplotlib.pyplot as plt\n",
    "import ipywidgets as widgets\n",
    "from IPython.display import display\n",
    "from thermo_models.RaoultsLawModel import *\n",
    "from distillation.DistillationModel import DistillationModel\n",
    "from utils.AntoineEquation import AntoineEquation \n",
    "from IPython.display import clear_output\n",
    "from tqdm import tqdm\n",
    "import ipywidgets as widgets\n",
    "from IPython.display import display\n",
    "\n",
    "# Antoine Parameters for benzene\n",
    "Ben_A = 4.72583\n",
    "Ben_B = 1660.652\n",
    "Ben_C = -1.461\n",
    "\n",
    "# Antoine Parameters for toluene\n",
    "Tol_A = 4.07827\n",
    "Tol_B = 1343.943\n",
    "Tol_C = -53.773\n",
    "\n",
    "P_sys = 1.0325\n",
    "# Create Antoine equations for benzene and toluene\n",
    "benzene_antoine = AntoineEquation(Ben_A, Ben_B, Ben_C)\n",
    "toluene_antoine = AntoineEquation(Tol_A, Tol_B, Tol_C)\n",
    "\n",
    "# Create a Raoult's law object\n",
    "vle_model = RaoultsLawModel(2, P_sys, [benzene_antoine, toluene_antoine])\n",
    "\n",
    "# Define the sliders:\n",
    "xD1_slider = widgets.FloatSlider(value=0.95, min=0, max=1, step=0.0001, description='$x_D$:', readout_format='.2f')\n",
    "xB1_slider = widgets.FloatSlider(value=0.05, min=0, max=1, step=0.0001, description='$x_B$:', readout_format='.2f')\n",
    "R1_slider =  widgets.FloatLogSlider(value=1.0, base=10, min=-2, max=2, step=0.001,  description='Reflux Ratio:', readout_format='.1f')\n",
    "\n",
    "def plot_distil_oplines(xD=xD1_slider.value, xB=xB1_slider.value, R=R1_slider.value):\n",
    "    distillation_model = DistillationModel(vle_model, xF = np.array([0.5, 0.5]), xD = np.array([xD, 1 - xD]), xB = np.array([xB, 1 - xB]), reflux = R)\n",
    "    fig, axs = plt.subplots(2, 3, figsize=(15, 5), gridspec_kw={'height_ratios': [40, 1]}, sharex='col')\n",
    "    axs = distillation_model.plot_distil_binary(axs = axs)\n",
    "    plt.subplots_adjust(hspace=0)\n",
    "\n",
    "def plot_distil_stripping_ex1(xD=xD1_slider.value, xB=xB1_slider.value, R=R1_slider.value):\n",
    "    distillation_model = DistillationModel(vle_model, xF = np.array([0.5, 0.5]), xD = np.array([xD, 1 - xD]), xB = np.array([xB, 1 - xB]), reflux = R)\n",
    "    fig, axs = plt.subplots(2, 1,figsize=(7, 7), gridspec_kw={'height_ratios': [40, 1]}, sharex='col')\n",
    "    ax1 = axs[0]; ax1_fixed = axs[1]\n",
    "    ax1 = distillation_model.plot_distil_strip(ax1 = ax1, ax1_fixed=ax1_fixed)\n",
    "    plt.subplots_adjust(hspace=0)\n",
    "    \n",
    "def plot_distil_rectifying_ex1(xD=xD1_slider.value, xB=xB1_slider.value, R=R1_slider.value):\n",
    "    distillation_model = DistillationModel(vle_model, xF = np.array([0.5, 0.5]), xD = np.array([xD, 1 - xD]), xB = np.array([xB, 1 - xB]), reflux = R)\n",
    "    fig, axs = plt.subplots(2, 1,figsize=(7, 7), gridspec_kw={'height_ratios': [40, 1]}, sharex='col')\n",
    "    ax2 = axs[0]; ax2_fixed = axs[1]\n",
    "    ax2 = distillation_model.plot_distil_rect(ax2 = ax2, ax2_fixed=ax2_fixed)\n",
    "    plt.subplots_adjust(hspace=0)\n",
    "\n",
    "# Define the sliders:\n",
    "xD2_slider = widgets.FloatSlider(value=0.95, min=0, max=1, step=0.0001, description='$x_D$:', readout_format='.2f')\n",
    "xB2_slider = widgets.FloatSlider(value=0.05, min=0, max=1, step=0.0001, description='$x_B$:', readout_format='.2f')\n",
    "r_max_slider = widgets.FloatSlider(value=1.0, min=0, max=100, step=1, description='R max:', readout_format='.1f')\n",
    "\n",
    "def plot_r_vs_fixedpoints_example1(r_max = r_max_slider.value, xD=xD2_slider.value, xB=xB2_slider.value):\n",
    "    clear_output(wait=True)\n",
    "    display(\"Calculating... Please wait.\")\n",
    "    r_values = np.linspace(0.001, r_max, 100)\n",
    "    x_fixed_r_arr = []\n",
    "    x_fixed_s_arr = []\n",
    "\n",
    "    for r in tqdm(r_values, desc=\"Progress\"):\n",
    "        distillation_model = DistillationModel(vle_model, xF=np.array([0.5, 0.5]), xD=np.array([xD, 1 - xD]), xB=np.array([xB, 1 - xB]), reflux=r)\n",
    "        x_fixed_r, _ = distillation_model.find_rect_fixedpoints_binary(100)\n",
    "        x_fixed_s, _ = distillation_model.find_strip_fixedpoints_binary(100)\n",
    "        x_fixed_r_arr.append(x_fixed_r)\n",
    "        x_fixed_s_arr.append(x_fixed_s)\n",
    "\n",
    "    # flatten the lists and repeat the r_values according to the number of x values\n",
    "    r_values_r = np.repeat(r_values, [len(x) for x in x_fixed_r_arr])\n",
    "    r_values_s = np.repeat(r_values, [len(x) for x in x_fixed_s_arr])\n",
    "    x_fixed_r_arr = np.hstack(x_fixed_r_arr)\n",
    "    x_fixed_s_arr = np.hstack(x_fixed_s_arr)\n",
    "\n",
    "    plt.scatter(r_values_r, x_fixed_r_arr,marker = 'x')\n",
    "    plt.scatter(r_values_s, x_fixed_s_arr, marker ='x')\n",
    "    plt.xlabel(\"Reflux Ratio\")\n",
    "    plt.ylabel(\"x\")\n",
    "    plt.show()"
   ]
  },
  {
   "cell_type": "code",
   "execution_count": 2,
   "metadata": {},
   "outputs": [
    {
     "data": {
      "application/vnd.jupyter.widget-view+json": {
       "model_id": "30c473cfcdd74569bf3312302f0e8798",
       "version_major": 2,
       "version_minor": 0
      },
      "text/plain": [
       "interactive(children=(FloatSlider(value=0.95, description='$x_D$:', max=1.0, step=0.0001), FloatSlider(value=0…"
      ]
     },
     "metadata": {},
     "output_type": "display_data"
    }
   ],
   "source": [
    "# Create the interactive widget:\n",
    "strip_plot = widgets.interactive(plot_distil_stripping_ex1, xD = xD1_slider, xB = xB1_slider, R = R1_slider)\n",
    "\n",
    "display(strip_plot)"
   ]
  },
  {
   "cell_type": "code",
   "execution_count": 3,
   "metadata": {},
   "outputs": [
    {
     "data": {
      "application/vnd.jupyter.widget-view+json": {
       "model_id": "8841b438ac8b42d9a5641845d41909df",
       "version_major": 2,
       "version_minor": 0
      },
      "text/plain": [
       "interactive(children=(FloatSlider(value=0.95, description='$x_D$:', max=1.0, step=0.0001), FloatSlider(value=0…"
      ]
     },
     "metadata": {},
     "output_type": "display_data"
    }
   ],
   "source": [
    "# Create the interactive widget:\n",
    "rect_plot = widgets.interactive(plot_distil_rectifying_ex1, xD = xD1_slider, xB = xB1_slider, R = R1_slider)\n",
    "\n",
    "display(rect_plot)"
   ]
  },
  {
   "cell_type": "code",
   "execution_count": 4,
   "metadata": {},
   "outputs": [
    {
     "data": {
      "application/vnd.jupyter.widget-view+json": {
       "model_id": "2806bbf1c911439b87d7f62db875ddf5",
       "version_major": 2,
       "version_minor": 0
      },
      "text/plain": [
       "interactive(children=(FloatSlider(value=0.95, description='$x_D$:', max=1.0, step=0.0001), FloatSlider(value=0…"
      ]
     },
     "metadata": {},
     "output_type": "display_data"
    }
   ],
   "source": [
    "# Create the interactive widget:\n",
    "interactive_plot = widgets.interactive(plot_distil_oplines, xD = xD1_slider, xB = xB1_slider, R = R1_slider)\n",
    "\n",
    "# Display the interactive widget:\n",
    "display(interactive_plot)"
   ]
  },
  {
   "cell_type": "code",
   "execution_count": 5,
   "metadata": {},
   "outputs": [
    {
     "data": {
      "application/vnd.jupyter.widget-view+json": {
       "model_id": "4e7b10c1164542aa9e3f78bf056cee10",
       "version_major": 2,
       "version_minor": 0
      },
      "text/plain": [
       "interactive(children=(FloatSlider(value=1.0, description='R max:', readout_format='.1f', step=1.0), FloatSlide…"
      ]
     },
     "metadata": {},
     "output_type": "display_data"
    }
   ],
   "source": [
    "# Create the interactive widget:\n",
    "fixed_points_reflux = widgets.interactive(plot_r_vs_fixedpoints_example1, xD=xD2_slider, xB=xB2_slider, r_max = r_max_slider) \n",
    "\n",
    "# Display the interactive widget:\n",
    "display(fixed_points_reflux)"
   ]
  }
 ],
 "metadata": {
  "celltoolbar": "Tags",
  "kernelspec": {
   "display_name": "Python 3 (ipykernel)",
   "language": "python",
   "name": "python3"
  },
  "language_info": {
   "codemirror_mode": {
    "name": "ipython",
    "version": 3
   },
   "file_extension": ".py",
   "mimetype": "text/x-python",
   "name": "python",
   "nbconvert_exporter": "python",
   "pygments_lexer": "ipython3",
   "version": "3.8.8"
  }
 },
 "nbformat": 4,
 "nbformat_minor": 4
}
