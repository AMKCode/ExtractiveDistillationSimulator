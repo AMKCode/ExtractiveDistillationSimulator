{
 "cells": [
  {
   "cell_type": "markdown",
   "metadata": {},
   "source": [
    "# Example 4: Ternary Tangent Pinch\n",
    "\n",
    "#### Example 3 depicted a tangent pinch for a binary system.  This example shows how a tangent pinch is represented in a ternary system of Acetaldehyde, Methanol, and Water.\n",
    "\n",
    "In these systems, as Reflux Ratio changes, the fixed point which terminates the rectifying section changes.  However, at the tangent pinch, a very small increment in reflux ratio causes the fixed point composition to rapidly shoot to a new value. \n",
    "\n",
    "This example shows the rectifying section experiences a jump at this tangent pinch, which occurs at a reflux ratio between 0.1 and 0.2."
   ]
  },
  {
   "cell_type": "code",
   "execution_count": 1,
   "metadata": {},
   "outputs": [
    {
     "name": "stderr",
     "output_type": "stream",
     "text": [
      "/Applications/Anaconda/anaconda3/lib/python3.8/site-packages/scipy/__init__.py:138: UserWarning: A NumPy version >=1.16.5 and <1.23.0 is required for this version of SciPy (detected version 1.24.4)\n",
      "  warnings.warn(f\"A NumPy version >={np_minversion} and <{np_maxversion} is required for this version of \"\n",
      "/Applications/Anaconda/anaconda3/lib/python3.8/site-packages/pandas/core/computation/expressions.py:20: UserWarning: Pandas requires version '2.7.3' or newer of 'numexpr' (version '2.7.1' currently installed).\n",
      "  from pandas.core.computation.check import NUMEXPR_INSTALLED\n"
     ]
    }
   ],
   "source": [
    "import numpy as np\n",
    "import matplotlib.pyplot as plt\n",
    "\n",
    "from src.thermo_models.RaoultsLawModel import *\n",
    "from src.utils.AntoineEquation import * \n",
    "from IPython.display import clear_output\n",
    "\n",
    "from src.distillation.DistillationTernary import *\n",
    "import ipywidgets as widgets\n",
    "from IPython.display import display\n",
    "\n",
    "from ipywidgets import interactive, Button, VBox, HBox, Output\n",
    "from IPython.display import clear_output\n",
    "from src.thermo_models.MargulesModel import *\n",
    "from src.distillation.residue_curves import *"
   ]
  },
  {
   "cell_type": "markdown",
   "metadata": {},
   "source": [
    "###### System parameters using Margules Model"
   ]
  },
  {
   "cell_type": "code",
   "execution_count": 2,
   "metadata": {},
   "outputs": [],
   "source": [
    "A_ = np.array([[0, -316.699, 350.100], [-384.657, 0, 307.000],[290.200, 143.00, 0]])\n",
    "\n",
    "#Example 4 in Fidkowski is at 1 atm = 760 mmHg\n",
    "P_sys = 1.01325 #bar\n",
    "\n",
    "#Antoine parameters from table 2.1 in page 25 of Doherty Malone Distillation Textbook\n",
    "#Units: P_sat in mmHg and Temperature in Celsius \n",
    "#Form is P_sat = A - B/(T+C)\n",
    "\n",
    "#Antoine parameters from NIST (Kelvin, Bar)\n",
    "#Acetaldehyde\n",
    "Acet_A = 3.68639\n",
    "Acet_B = 822.894\n",
    "Acet_C = -69.899\n",
    "#Methanol\n",
    "Me_A = 5.31301\n",
    "Me_B = 1676.569\n",
    "Me_C = -21.728\n",
    "#Water\n",
    "H2O_A = 3.55959\n",
    "H2O_B = 643.748\n",
    "H2O_C = -198.043\n",
    "\n",
    "#Antoine Equations \n",
    "Acet_antoine     = AntoineEquationBase10(Acet_A, Acet_B, Acet_C)\n",
    "H2O_antoine      = AntoineEquationBase10(H2O_A, H2O_B, H2O_C)\n",
    "Methanol_antoine = AntoineEquationBase10(Me_A, Me_B, Me_C)"
   ]
  },
  {
   "cell_type": "code",
   "execution_count": 3,
   "metadata": {},
   "outputs": [],
   "source": [
    "# Create a VLE model object\n",
    "vle_model = MargulesModel(3, P_sys, A_,[\"Acet\", \"Meth\",\"H2O\"],[Acet_antoine, Methanol_antoine, H2O_antoine], True)\n",
    "\n",
    "# Create a distillation model\n",
    "distillation_model = DistillationModelTernary(vle_model, xF = np.array([0.3, 0.3, 0.4]), xD = np.array([0.5030, 0.4960, 0.0010]), xB = np.array([1e-10, 0.0103 - 1e-10,0.9897]), reflux = 0.1)\n",
    "\n",
    "# Create a residue curve map object\n",
    "rcm = PhasePortraits(vle_model, distillation_model)"
   ]
  },
  {
   "cell_type": "code",
   "execution_count": 4,
   "metadata": {},
   "outputs": [],
   "source": [
    "def plot_rect(dist_model, rcm, rr):\n",
    "    \n",
    "    dist_model.set_r(rr)    \n",
    "    fig, ax = plt.subplots(1,2,figsize= (10,5))\n",
    "    dist_model.plot_rect_comp(ax[0])\n",
    "    \n",
    "    rcm.plot_vector_field_rect (ax[1], 20)\n",
    "    dist_model.plot_rect_comp(ax[1])\n",
    "    \n",
    "    plt.show()\n",
    "\n",
    "def plot_rect_strip(dist_model, rcm, rr):\n",
    "    \n",
    "    dist_model.set_r(rr)\n",
    "    \n",
    "    fig, ax = plt.subplots(1,3,figsize= (15,5))\n",
    "    dist_model.plot_rect_strip_comp(ax[0])   \n",
    "    \n",
    "    rcm.plot_vector_field_rect  (ax[1], 20)\n",
    "    rcm.plot_vector_field_strip (ax[2], 20)\n",
    "    \n",
    "    dist_model.plot_rect_comp  (ax[1])\n",
    "    dist_model.plot_strip_comp (ax[2])\n",
    "\n",
    "    plt.show()"
   ]
  },
  {
   "cell_type": "code",
   "execution_count": 5,
   "metadata": {},
   "outputs": [],
   "source": [
    "# Setup sliders\n",
    "\n",
    "R1_slider = widgets.FloatSlider(value=0.1, min=0, max=1, step=0.01,  description='Reflux Ratio:', readout_format='.2f')\n",
    "R2_slider = widgets.FloatSlider(value=0.1, min=0, max=1, step=0.01,  description='Reflux Ratio:', readout_format='.2f')\n",
    "go_button = widgets.Button(description='Create Model', width='15%', margin='0 10px 0 0')\n",
    "\n",
    "# Setup interactive objects\n",
    "\n",
    "out_1 = Output()\n",
    "out_2 = Output()"
   ]
  },
  {
   "cell_type": "markdown",
   "metadata": {},
   "source": [
    "### Demo 1: Rectifying Section\n",
    "\n",
    "Use the slider to vary the reflux ratio.  Notice how the end of the rectifying section always changes with the reflux ratio, but experiences a much more rapid change between values of 0.1 and 0.2."
   ]
  },
  {
   "cell_type": "code",
   "execution_count": 6,
   "metadata": {},
   "outputs": [
    {
     "data": {
      "application/vnd.jupyter.widget-view+json": {
       "model_id": "87957ddb0cc649628d832f56e7a6900c",
       "version_major": 2,
       "version_minor": 0
      },
      "text/plain": [
       "VBox(children=(HBox(children=(FloatSlider(value=0.1, description='Reflux Ratio:', max=1.0, step=0.01), Button(…"
      ]
     },
     "metadata": {},
     "output_type": "display_data"
    }
   ],
   "source": [
    "def on_go_button_click(b):\n",
    "    with out_1:\n",
    "        clear_output(wait=True)\n",
    "        plt.close('all')  # Close all open matplotlib plots\n",
    "        plot_rect(distillation_model, rcm, rr = R1_slider.value)\n",
    "        \n",
    "go_button = Button(description='Generate Plot')\n",
    "go_button.on_click(on_go_button_click)\n",
    "\n",
    "layout = VBox([HBox([R1_slider, go_button]), out_1])\n",
    "display(layout)"
   ]
  },
  {
   "cell_type": "markdown",
   "metadata": {},
   "source": [
    "### Demo 2: Full Column\n",
    "\n",
    "What are the implications of this ternary tangent pinch?\n",
    "\n",
    "As Example 2 discussed, for a ternary column to be feasible, the rectifying and stripping sections need to overlap.\n",
    "Change the reflux ratio again, and notice how the jump at the ternary pinch value is necessary for the column to be feasible.  This demonstration also highlights how slight changes to reflux ratio have a much larger impact on the rectifying section than on the stripping section."
   ]
  },
  {
   "cell_type": "code",
   "execution_count": 7,
   "metadata": {},
   "outputs": [
    {
     "data": {
      "application/vnd.jupyter.widget-view+json": {
       "model_id": "4dbd409779de40b3b174da1b04cef3ca",
       "version_major": 2,
       "version_minor": 0
      },
      "text/plain": [
       "VBox(children=(HBox(children=(FloatSlider(value=0.1, description='Reflux Ratio:', max=1.0, step=0.01), Button(…"
      ]
     },
     "metadata": {},
     "output_type": "display_data"
    }
   ],
   "source": [
    "\n",
    "def on_go2_button_click(b):\n",
    "    with out_2:\n",
    "        clear_output(wait=True)\n",
    "        plt.close('all')  # Close all open matplotlib plots\n",
    "        plot_rect_strip( distillation_model, rcm, rr = R2_slider.value)\n",
    "        \n",
    "go2_button = widgets.Button(description='Generate Plot')\n",
    "go2_button.on_click(on_go2_button_click)\n",
    "\n",
    "layout = VBox([HBox([R2_slider, go2_button]), out_2])\n",
    "display(layout)"
   ]
  },
  {
   "cell_type": "code",
   "execution_count": null,
   "metadata": {},
   "outputs": [],
   "source": []
  }
 ],
 "metadata": {
  "kernelspec": {
   "display_name": "Python 3",
   "language": "python",
   "name": "python3"
  },
  "language_info": {
   "codemirror_mode": {
    "name": "ipython",
    "version": 3
   },
   "file_extension": ".py",
   "mimetype": "text/x-python",
   "name": "python",
   "nbconvert_exporter": "python",
   "pygments_lexer": "ipython3",
   "version": "3.8.5"
  }
 },
 "nbformat": 4,
 "nbformat_minor": 2
}
